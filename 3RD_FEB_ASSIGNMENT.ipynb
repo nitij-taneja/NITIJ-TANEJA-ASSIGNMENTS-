{
 "cells": [
  {
   "cell_type": "code",
   "execution_count": 2,
   "id": "f3c5f3cb-71c4-4415-8847-523e54fefe89",
   "metadata": {},
   "outputs": [
    {
     "data": {
      "text/plain": [
       "[1, 3, 5, 7, 9, 11, 13, 15, 17, 19, 21, 23, 25]"
      ]
     },
     "execution_count": 2,
     "metadata": {},
     "output_type": "execute_result"
    }
   ],
   "source": [
    "'''Q1:  Which keyword is used to create a function? Create a function to return a list of odd numbers in the\n",
    "range of 1 to 25.\n",
    "\n",
    "Answer: def keyword is used for creating or defining a function.'''\n",
    "def odd(m,n):\n",
    "    a=[]\n",
    "    for i in range(m,n+1):\n",
    "        if i%2!=0:\n",
    "            a.append(i)\n",
    "    return a\n",
    "odd(1,25)\n"
   ]
  },
  {
   "cell_type": "markdown",
   "id": "54deb6b9-ad9e-45f1-a34f-6500aa61038f",
   "metadata": {},
   "source": []
  },
  {
   "cell_type": "code",
   "execution_count": 4,
   "id": "d85e56f8-d282-4c7b-8189-30c299d36281",
   "metadata": {},
   "outputs": [
    {
     "name": "stdout",
     "output_type": "stream",
     "text": [
      "Sum: 11\n",
      "Sum: 98\n",
      "\n",
      "\n",
      "Name is Nitij\n",
      "Age is 18\n",
      "\n",
      "Name is Yash\n",
      "Age is 18\n",
      "Email is yash@gmail.com\n",
      "City is Delhi\n"
     ]
    }
   ],
   "source": [
    "'''Q2: Why *args and **kwargs is used in some functions? Create a function each for *args and **kwargs\n",
    "to demonstrate their use\n",
    "\n",
    "Answer: In a function we can pass a variable number of arguments using special symbols i.e. *args and **kwargs. We use them \n",
    "when we are unsure about the numner of arguments to pass in the functions.'''\n",
    "\n",
    "#Using of args\n",
    "def adder(*num):\n",
    "    summ=0\n",
    "    for i in num:\n",
    "        summ+=summ+i\n",
    "    print(\"Sum:\",summ)\n",
    "adder(3,5)\n",
    "adder(2,6,78)\n",
    "print()\n",
    "print()\n",
    "#using of kwargs (for parameters with keywords)\n",
    "def intro(**data):\n",
    "    for k,v in data.items():\n",
    "        print(\"{} is {}\".format(k,v))\n",
    "intro(Name='Nitij', Age=18)\n",
    "print()\n",
    "intro(Name='Yash', Age=18, Email='yash@gmail.com', City='Delhi')"
   ]
  },
  {
   "cell_type": "code",
   "execution_count": 2,
   "id": "7c3126cb-accf-4c4e-a9e1-c429fcb04756",
   "metadata": {},
   "outputs": [
    {
     "name": "stdout",
     "output_type": "stream",
     "text": [
      "2\n",
      "4\n",
      "6\n",
      "8\n",
      "10\n"
     ]
    }
   ],
   "source": [
    "'''Q3: What is an iterator in python? Name the method used to initialise the iterator object and the method\n",
    "used for iteration. Use these methods to print the first five elements of the given list [2, 4, 6, 8, 10, 12, 14,\n",
    "16, 18, 20].\n",
    "\n",
    "Answer: Iterator in Python is an object that is used to iterate over iterable objects like lists, tuples, dicts and sets. The iterator object is\n",
    "initialized using the iter() method. It uses the next() method for iteration.'''\n",
    "a=[2,4,6,8,10,12,14,16,18,20]\n",
    "iterator = iter(a)\n",
    "print(next(iterator))\n",
    "print(next(iterator))\n",
    "print(next(iterator))\n",
    "print(next(iterator))\n",
    "print(next(iterator))"
   ]
  },
  {
   "cell_type": "code",
   "execution_count": 6,
   "id": "e721b854-9f98-479f-bf34-e09b2a0361a5",
   "metadata": {},
   "outputs": [
    {
     "name": "stdout",
     "output_type": "stream",
     "text": [
      "0\n",
      "1\n",
      "2\n"
     ]
    }
   ],
   "source": [
    "''' Q4: What is a generator function in python? Why yield keyword is used? Give an example of a generator\n",
    "function.\n",
    "\n",
    "Answer: A genertaor is a function that returns an iterator that produces a sequence of values when iterated over. Generators are useful when \n",
    "we want to produce a large sequence of values, but we don't want to store all of them in memory at once.\n",
    "The yield keyword is responsible for controlling the flow of the generator function. It pauses the function exexcution by saving all states\n",
    "and yielded to the caller. Later it resumes execution when a successive function is called. We can use the multiple yield statement in the \n",
    "generator function.'''\n",
    "def my_generator(n):\n",
    "    i=0\n",
    "    while i<n:\n",
    "        yield i\n",
    "        i+=1\n",
    "my_generator(3)\n",
    "for i in my_generator(3):\n",
    "    print(i)"
   ]
  },
  {
   "cell_type": "code",
   "execution_count": 1,
   "id": "0cf121f7-cd88-4b16-953f-71e227979e6a",
   "metadata": {},
   "outputs": [
    {
     "name": "stdout",
     "output_type": "stream",
     "text": [
      "The first 20 prime numbers:\n",
      "2\n",
      "3\n",
      "5\n",
      "7\n",
      "11\n",
      "13\n",
      "17\n",
      "19\n",
      "23\n",
      "29\n",
      "31\n",
      "37\n",
      "41\n",
      "43\n",
      "47\n",
      "53\n",
      "59\n",
      "61\n",
      "67\n",
      "71\n"
     ]
    }
   ],
   "source": [
    "'''Q5: Create a generator function for prime numbers less than 1000. Use the next() method to print the\n",
    "first 20 prime numbers.'''\n",
    "#Answer: \n",
    "def prime_numbers():\n",
    "    yield 2\n",
    "    primes = [2]\n",
    "    candidate = 3\n",
    "    while candidate < 1000:\n",
    "        is_prime = True\n",
    "        for prime in primes:\n",
    "            if candidate % prime == 0:\n",
    "                is_prime = False\n",
    "                break\n",
    "        if is_prime:\n",
    "            primes.append(candidate)\n",
    "            yield candidate\n",
    "        candidate += 2\n",
    "\n",
    "primes = prime_numbers()\n",
    "\n",
    "print(\"The first 20 prime numbers:\")\n",
    "for i in range(20):\n",
    "    print(next(primes))\n"
   ]
  },
  {
   "cell_type": "code",
   "execution_count": 36,
   "id": "35e01c33-e493-4117-96ac-5c6fd5f88d8b",
   "metadata": {},
   "outputs": [
    {
     "name": "stdout",
     "output_type": "stream",
     "text": [
      "0\n",
      "1\n",
      "1\n",
      "2\n",
      "3\n",
      "5\n",
      "8\n",
      "13\n",
      "21\n",
      "34\n"
     ]
    }
   ],
   "source": [
    "'''Q6: Write a python program to print the first 10 Fibonacci numbers using a while loop.'''\n",
    "\n",
    "a,b=0,1\n",
    "count=0\n",
    "while count<10:\n",
    "    print(a)\n",
    "    a,b=b,a+b\n",
    "    count+=1"
   ]
  },
  {
   "cell_type": "code",
   "execution_count": 29,
   "id": "d6496955-7fd6-43d1-a74f-da3d132a4e05",
   "metadata": {},
   "outputs": [
    {
     "data": {
      "text/plain": [
       "['p', 'w', 's', 'k', 'i', 'l', 'l', 's']"
      ]
     },
     "execution_count": 29,
     "metadata": {},
     "output_type": "execute_result"
    }
   ],
   "source": [
    "'''Q7: Write a List Comprehension to iterate through the given string: ‘pwskills’.\n",
    "Expected output: ['p', 'w', 's', 'k', 'i', 'l', 'l', 's']'''\n",
    "string='pwskills'\n",
    "[i for i in string]"
   ]
  },
  {
   "cell_type": "code",
   "execution_count": 30,
   "id": "dbac3570-6f41-4fec-8327-d7beb39af00e",
   "metadata": {},
   "outputs": [
    {
     "name": "stdin",
     "output_type": "stream",
     "text": [
      " 343\n"
     ]
    },
    {
     "name": "stdout",
     "output_type": "stream",
     "text": [
      "Palindrome\n"
     ]
    }
   ],
   "source": [
    "'''Q8: Write a python program to check whether a given number is Palindrome or not using a while loop.'''\n",
    "a=int(input())\n",
    "b=str(a)\n",
    "if b==b[::-1]:\n",
    "    print(\"Palindrome\")\n",
    "else:\n",
    "    print(\"Not Palindrome\")"
   ]
  },
  {
   "cell_type": "code",
   "execution_count": 33,
   "id": "88940b96-74f3-49b3-9e1d-313177bdcfc8",
   "metadata": {},
   "outputs": [
    {
     "name": "stdout",
     "output_type": "stream",
     "text": [
      "[1, 3, 5, 7, 9, 11, 13, 15, 17, 19, 21, 23, 25, 27, 29, 31, 33, 35, 37, 39, 41, 43, 45, 47, 49, 51, 53, 55, 57, 59, 61, 63, 65, 67, 69, 71, 73, 75, 77, 79, 81, 83, 85, 87, 89, 91, 93, 95, 97, 99]\n"
     ]
    }
   ],
   "source": [
    "\"\"\"Q9: Write a code to print odd numbers from 1 to 100 using list comprehension.\n",
    "Note: Use a list comprehension to create a list from 1 to 100 and use another List comprehension to filter\n",
    "out odd numbers.\"\"\"\n",
    "a=[i for i in range(101)]\n",
    "b=[j for j in a if j%2!=0]\n",
    "print(b)"
   ]
  },
  {
   "cell_type": "code",
   "execution_count": null,
   "id": "49ad641e-68de-48da-8835-3995c3bf04a7",
   "metadata": {},
   "outputs": [],
   "source": []
  }
 ],
 "metadata": {
  "kernelspec": {
   "display_name": "Python 3 (ipykernel)",
   "language": "python",
   "name": "python3"
  },
  "language_info": {
   "codemirror_mode": {
    "name": "ipython",
    "version": 3
   },
   "file_extension": ".py",
   "mimetype": "text/x-python",
   "name": "python",
   "nbconvert_exporter": "python",
   "pygments_lexer": "ipython3",
   "version": "3.10.8"
  },
  "toc-autonumbering": false
 },
 "nbformat": 4,
 "nbformat_minor": 5
}
