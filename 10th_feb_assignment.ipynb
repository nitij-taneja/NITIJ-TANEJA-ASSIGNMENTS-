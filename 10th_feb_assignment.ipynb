{
 "cells": [
  {
   "cell_type": "code",
   "execution_count": 1,
   "id": "ed460f31-03c8-4a3a-8b79-77133c377999",
   "metadata": {},
   "outputs": [
    {
     "data": {
      "text/plain": [
       "\"Q1: Which function is used to open a file? What are the different modes of opening a file? Explain each mode\\nof file opening.\\n\\nAnswer: The open() function is used to open a file in Python. When you open a file, you can specify the mode in which you want to open it. The\\ndifferent modes of opening a file in Python are:\\n\\n'r' (read mode) - This mode is used when you only want to read the contents of a file. When you open a file in read mode, you cannot write to it or \\nmake any changes to it. If the file does not exist, a FileNotFoundError will be raised.\\n\\n'w' (write mode) - This mode is used when you want to write to a file. If the file already exists, its contents will be overwritten. If the file does\\nnot exist, a new file will be created.\\n\\n'a' (append mode) - This mode is used when you want to add new content to the end of an existing file. If the file does not exist, a new file will be \\ncreated. In append mode, you can only write to the end of the file, and not anywhere else.\\n\\n'x' (exclusive creation mode) - This mode is used when you want to create a new file and write to it, but only if the file does not already exist.\\nIf the file already exists, a FileExistsError will be raised.\\n\\n'b' (binary mode) - This mode is used when you want to read or write binary data to a file. When opening a file in binary mode, you should use 'rb' \\nto read binary data and 'wb' to write binary data.\\n\\n't' (text mode) - This mode is used when you want to read or write text data to a file. When opening a file in text mode, you should use 'rt' to read\\ntext data and 'wt' to write text data.\\n\\nYou can combine these modes when opening a file, for example: 'rb' to open a binary file in read mode, 'wt' to open a text file in write mode, etc. \\nThe default mode is 'rt' (read text mode) if no mode is specified.\""
      ]
     },
     "execution_count": 1,
     "metadata": {},
     "output_type": "execute_result"
    }
   ],
   "source": [
    "'''Q1: Which function is used to open a file? What are the different modes of opening a file? Explain each mode\n",
    "of file opening.\n",
    "\n",
    "Answer: The open() function is used to open a file in Python. When you open a file, you can specify the mode in which you want to open it. The\n",
    "different modes of opening a file in Python are:\n",
    "\n",
    "'r' (read mode) - This mode is used when you only want to read the contents of a file. When you open a file in read mode, you cannot write to it or \n",
    "make any changes to it. If the file does not exist, a FileNotFoundError will be raised.\n",
    "\n",
    "'w' (write mode) - This mode is used when you want to write to a file. If the file already exists, its contents will be overwritten. If the file does\n",
    "not exist, a new file will be created.\n",
    "\n",
    "'a' (append mode) - This mode is used when you want to add new content to the end of an existing file. If the file does not exist, a new file will be \n",
    "created. In append mode, you can only write to the end of the file, and not anywhere else.\n",
    "\n",
    "'x' (exclusive creation mode) - This mode is used when you want to create a new file and write to it, but only if the file does not already exist.\n",
    "If the file already exists, a FileExistsError will be raised.\n",
    "\n",
    "'b' (binary mode) - This mode is used when you want to read or write binary data to a file. When opening a file in binary mode, you should use 'rb' \n",
    "to read binary data and 'wb' to write binary data.\n",
    "\n",
    "'t' (text mode) - This mode is used when you want to read or write text data to a file. When opening a file in text mode, you should use 'rt' to read\n",
    "text data and 'wt' to write text data.\n",
    "\n",
    "You can combine these modes when opening a file, for example: 'rb' to open a binary file in read mode, 'wt' to open a text file in write mode, etc. \n",
    "The default mode is 'rt' (read text mode) if no mode is specified.'''"
   ]
  },
  {
   "cell_type": "code",
   "execution_count": 2,
   "id": "dd85179c-6bda-481b-896e-dbfdac4790ef",
   "metadata": {},
   "outputs": [
    {
     "data": {
      "text/plain": [
       "\"Q2: Why close() function is used? Why is it important to close a file?\\n\\nAnswer: The close() function is used to close an open file. When a file is opened in Python using the open function, the operating system reserves \\nsome resources to handle the file. This can include memory, disk space, file handles, etc. When you are done with a file and no longer need to read\\nfrom or write to it, it is important to close it so that these resources can be released and made available for other applications.\\n\\nIn addition to freeing up resources, closing a file also ensures that any changes you made to the file are saved and written to disk. This makes it\\na good practice to close a file after you have finished using it.\\n\\nIf you forget to close a file, the operating system will eventually release the resources that were reserved for it when the Python process ends.\\nHowever, it's still a good idea to close files explicitly, as it makes the intent of your code more clear and reduces the chance of resource leaks\\nor other unintended consequences.\""
      ]
     },
     "execution_count": 2,
     "metadata": {},
     "output_type": "execute_result"
    }
   ],
   "source": [
    "'''Q2: Why close() function is used? Why is it important to close a file?\n",
    "\n",
    "Answer: The close() function is used to close an open file. When a file is opened in Python using the open function, the operating system reserves \n",
    "some resources to handle the file. This can include memory, disk space, file handles, etc. When you are done with a file and no longer need to read\n",
    "from or write to it, it is important to close it so that these resources can be released and made available for other applications.\n",
    "\n",
    "In addition to freeing up resources, closing a file also ensures that any changes you made to the file are saved and written to disk. This makes it\n",
    "a good practice to close a file after you have finished using it.\n",
    "\n",
    "If you forget to close a file, the operating system will eventually release the resources that were reserved for it when the Python process ends.\n",
    "However, it's still a good idea to close files explicitly, as it makes the intent of your code more clear and reduces the chance of resource leaks\n",
    "or other unintended consequences.'''"
   ]
  },
  {
   "cell_type": "code",
   "execution_count": 3,
   "id": "852471f8-f5cb-49c3-9ac7-458da74c1fd0",
   "metadata": {},
   "outputs": [
    {
     "name": "stdout",
     "output_type": "stream",
     "text": [
      "I want to become a Data Scientist\n"
     ]
    }
   ],
   "source": [
    "'''Q3: Write a python program to create a text file. Write ‘I want to become a Data Scientist’ in that file. Then\n",
    "close the file. Open this file and read the content of the file.'''\n",
    "#Answer:\n",
    "# create a text file\n",
    "file = open(\"textfile.txt\", \"w\")\n",
    "\n",
    "# write to the file\n",
    "file.write(\"I want to become a Data Scientist\")\n",
    "\n",
    "# close the file\n",
    "file.close()\n",
    "\n",
    "# open the file in read mode\n",
    "file = open(\"textfile.txt\", \"r\")\n",
    "\n",
    "# read the contents of the file\n",
    "contents = file.read()\n",
    "\n",
    "# print the contents of the file\n",
    "print(contents)\n",
    "\n",
    "# close the file\n",
    "file.close()"
   ]
  },
  {
   "cell_type": "code",
   "execution_count": 9,
   "id": "042cc33c-dd3f-4f44-b0bd-ae76110e41ef",
   "metadata": {},
   "outputs": [
    {
     "name": "stdout",
     "output_type": "stream",
     "text": [
      " first line  second line  third line \n",
      "\n",
      " first line  second line  third line \n",
      "\n",
      "[' first line  second line  third line ']\n"
     ]
    }
   ],
   "source": [
    "'''Q4: Explain the following with python code: read(), readline() and readlines().'''\n",
    "\n",
    "#Answer: \n",
    "a = open(\"textfile.txt\", \"w\")\n",
    "a.write(\" first line \")\n",
    "a.write(\" second line \")\n",
    "a.write(\" third line \")\n",
    "a.close()\n",
    "a = open(\"textfile.txt\", \"r\")\n",
    "#read(): The read() method reads the entire contents of a file and returns it as a single string\n",
    "b=a.read()\n",
    "print(b)\n",
    "print()\n",
    "\n",
    "#readline(): The readline() method reads one line of the file at a time and returns it as a string.\n",
    "a= open(\"textfile.txt\", \"r\")\n",
    "c=a.readline()\n",
    "print(c)\n",
    "print()\n",
    "\n",
    "#readlines(): The readlines() method reads all the lines of the file and returns them as a list of strings, where each string is a line of the file\n",
    "a = open(\"textfile.txt\", \"r\")\n",
    "d=a.readlines()\n",
    "print(d)"
   ]
  },
  {
   "cell_type": "code",
   "execution_count": 6,
   "id": "29f24c20-df59-40d5-b080-2d318d17a819",
   "metadata": {},
   "outputs": [
    {
     "data": {
      "text/plain": [
       "\"Q5: Explain why with statement is used with open(). What is the advantage of using with statement and\\nopen() together?\\n\\nAnswer: In Python, the with statement is often used with the open function to handle files. The with statement provides a convenient way to manage \\nthe resources that a program uses, including files.\\n\\nWhen you open a file with the open function, you need to close the file after you're done with it. If you forget to close the file, it can cause \\nproblems, such as data corruption or resource leaks.\\n\\nThe with statement provides a convenient way to ensure that resources are properly managed. When you use the with statement with the open function, \\nyou don't have to worry about manually closing the file. The with statement automatically closes the file for you, even if an exception is raised \\nwithin the with block.\""
      ]
     },
     "execution_count": 6,
     "metadata": {},
     "output_type": "execute_result"
    }
   ],
   "source": [
    "'''Q5: Explain why with statement is used with open(). What is the advantage of using with statement and\n",
    "open() together?\n",
    "\n",
    "Answer: In Python, the with statement is often used with the open function to handle files. The with statement provides a convenient way to manage \n",
    "the resources that a program uses, including files.\n",
    "\n",
    "When you open a file with the open function, you need to close the file after you're done with it. If you forget to close the file, it can cause \n",
    "problems, such as data corruption or resource leaks.\n",
    "\n",
    "The with statement provides a convenient way to ensure that resources are properly managed. When you use the with statement with the open function, \n",
    "you don't have to worry about manually closing the file. The with statement automatically closes the file for you, even if an exception is raised \n",
    "within the with block.'''"
   ]
  },
  {
   "cell_type": "code",
   "execution_count": 11,
   "id": "d8aa6bd6-46fd-4321-a621-7de31fc3e896",
   "metadata": {},
   "outputs": [
    {
     "name": "stdout",
     "output_type": "stream",
     "text": [
      "first linefirst linesecond linethird line\n"
     ]
    }
   ],
   "source": [
    "'''Q6: Explain the write() and writelines() functions. Give a suitable example.\n",
    "\n",
    "Answer: write(): The write() function is used to write a string to a file.\n",
    "writelines(): The writelines() function is used to write a list of strings to a file.'''\n",
    "str1='first line'\n",
    "str2='second line'\n",
    "str3='third line'\n",
    "strr=[str1+str2+str3]\n",
    "new_file=open(\"textfile.txt\", \"w\")\n",
    "new_file.write(str1)\n",
    "new_file.writelines(strr)\n",
    "new_file.close\n",
    "new_file=open(\"textfile.txt\", \"r\")\n",
    "a=new_file.read()\n",
    "print(a)\n"
   ]
  },
  {
   "cell_type": "code",
   "execution_count": null,
   "id": "2d9c8c31-1413-4d01-8469-d44ff13874f9",
   "metadata": {},
   "outputs": [],
   "source": []
  }
 ],
 "metadata": {
  "kernelspec": {
   "display_name": "Python 3 (ipykernel)",
   "language": "python",
   "name": "python3"
  },
  "language_info": {
   "codemirror_mode": {
    "name": "ipython",
    "version": 3
   },
   "file_extension": ".py",
   "mimetype": "text/x-python",
   "name": "python",
   "nbconvert_exporter": "python",
   "pygments_lexer": "ipython3",
   "version": "3.10.8"
  }
 },
 "nbformat": 4,
 "nbformat_minor": 5
}
