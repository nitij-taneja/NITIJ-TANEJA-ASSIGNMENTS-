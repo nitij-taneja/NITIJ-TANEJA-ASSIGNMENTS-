{
  "nbformat": 4,
  "nbformat_minor": 0,
  "metadata": {
    "colab": {
      "provenance": []
    },
    "kernelspec": {
      "name": "python3",
      "display_name": "Python 3"
    },
    "language_info": {
      "name": "python"
    }
  },
  "cells": [
    {
      "cell_type": "code",
      "execution_count": null,
      "metadata": {
        "id": "_AkhnAD8hb6d"
      },
      "outputs": [],
      "source": []
    },
    {
      "cell_type": "markdown",
      "source": [
        "# Question 1 : What is relationship between polynomial funtions and kernel functions in machine learning algorithms ?\n",
        "\n",
        "Answer :\n",
        "\n",
        "Polynomial functions and kernel functions are both commonly used in machine\n",
        "learning algorithms, but they have different roles.\n",
        "\n",
        "Polynomial functions are a type of function that can be used to fit data by using a polynomial equation to model the relationship between the input and output variables. In the context of machine learning, polynomial functions are often used as basis functions in linear regression models, where they are used to transform the input data into a higher-dimensional space so that linear decision boundaries can be more easily defined.\n",
        "\n",
        "Kernel functions, on the other hand, are used to define similarity measures between pairs of data points in a high-dimensional space. In machine learning, kernel functions are commonly used in kernel methods, such as support vector machines (SVMs) and kernelized ridge regression, to transform the input data into a high-dimensional space where linear decision boundaries can be more easily defined.\n",
        "\n",
        "One type of kernel function that is often used in kernel methods is the polynomial kernel, which computes the similarity between two data points as the dot product of their feature representations raised to a certain power (i.e., a polynomial function). This allows the kernel method to implicitly define nonlinear decision boundaries in the original input space, without the need to explicitly compute the high-dimensional feature space.\n",
        "\n",
        "In summary, while polynomial functions and kernel functions are both used in machine learning algorithms, they serve different purposes. Polynomial functions are used as basis functions in linear regression models, while kernel functions are used to define similarity measures between pairs of data points in a high-dimensional space, often as part of kernel methods."
      ],
      "metadata": {
        "id": "2QNtxLLmiNH-"
      }
    },
    {
      "cell_type": "markdown",
      "source": [
        "## Question 2 : How can we implement SVM with polynomial kernel in Python using Scikit-learn library?"
      ],
      "metadata": {
        "id": "REK3NC3xiaP3"
      }
    },
    {
      "cell_type": "code",
      "source": [
        "from sklearn import svm\n",
        "from sklearn.datasets import make_classification\n",
        "from sklearn.model_selection import train_test_split\n",
        "\n",
        "# Generate a random dataset for demonstration purposes\n",
        "X, y = make_classification(n_samples=1000, n_features=10, n_classes=2,n_informative=5 ,random_state=42)\n",
        "\n",
        "# Split the data into training and testing sets\n",
        "X_train, X_test, y_train, y_test = train_test_split(X, y, test_size=0.2, random_state=42)\n",
        "\n",
        "# Create an SVM classifier with a polynomial kernel\n",
        "svm_classifier = svm.SVC(kernel='poly', degree=3)\n",
        "\n",
        "# Fit the classifier to the training data\n",
        "svm_classifier.fit(X_train, y_train)\n",
        "\n",
        "# Predict the labels of the test data\n",
        "y_pred = svm_classifier.predict(X_test)\n",
        "\n",
        "# Evaluate the classifier's accuracy on the test data\n",
        "accuracy = svm_classifier.score(X_test, y_test)\n",
        "print(\"Testing Accuracy:\", accuracy)"
      ],
      "metadata": {
        "colab": {
          "base_uri": "https://localhost:8080/"
        },
        "id": "CxXEQB_3idBn",
        "outputId": "598c70f1-a753-45fe-a056-3849eaacbda9"
      },
      "execution_count": 1,
      "outputs": [
        {
          "output_type": "stream",
          "name": "stdout",
          "text": [
            "Testing Accuracy: 0.895\n"
          ]
        }
      ]
    },
    {
      "cell_type": "code",
      "source": [
        "# Confusion matrix\n",
        "from sklearn.metrics import confusion_matrix\n",
        "import seaborn as sns\n",
        "cf = confusion_matrix(y_test,y_pred)\n",
        "sns.heatmap(cf,annot=True,fmt='d')"
      ],
      "metadata": {
        "colab": {
          "base_uri": "https://localhost:8080/",
          "height": 447
        },
        "id": "NMKfDfXhig5X",
        "outputId": "b557ce9d-33d7-472f-f2f7-4b45b9fb1b2b"
      },
      "execution_count": 2,
      "outputs": [
        {
          "output_type": "execute_result",
          "data": {
            "text/plain": [
              "<Axes: >"
            ]
          },
          "metadata": {},
          "execution_count": 2
        },
        {
          "output_type": "display_data",
          "data": {
            "text/plain": [
              "<Figure size 640x480 with 2 Axes>"
            ],
            "image/png": "[encoded data removed]"
          },
          "metadata": {}
        }
      ]
    },
    {
      "cell_type": "code",
      "source": [
        "from sklearn.metrics import classification_report\n",
        "print(classification_report(y_test,y_pred))"
      ],
      "metadata": {
        "colab": {
          "base_uri": "https://localhost:8080/"
        },
        "id": "UCGW3n8Xikac",
        "outputId": "45c0900f-bdfb-4c17-e975-977f9f15a380"
      },
      "execution_count": 3,
      "outputs": [
        {
          "output_type": "stream",
          "name": "stdout",
          "text": [
            "              precision    recall  f1-score   support\n",
            "\n",
            "           0       0.94      0.87      0.90       112\n",
            "           1       0.85      0.93      0.89        88\n",
            "\n",
            "    accuracy                           0.90       200\n",
            "   macro avg       0.89      0.90      0.89       200\n",
            "weighted avg       0.90      0.90      0.90       200\n",
            "\n"
          ]
        }
      ]
    },
    {
      "cell_type": "code",
      "source": [],
      "metadata": {
        "id": "nPZDE3J9imvg"
      },
      "execution_count": null,
      "outputs": []
    },
    {
      "cell_type": "markdown",
      "source": [
        "# Question 3 : How does the increasing value of epsilon affect the number of support vectors in SVR?\n",
        "\n",
        "Answer :\n",
        "\n",
        "In Support Vector Regression (SVR), the parameter epsilon controls the width of the epsilon-insensitive tube, which is the region where errors are not penalized. Specifically, any training data point within the epsilon-insensitive tube does not contribute to the loss function.\n",
        "\n",
        "Increasing the value of epsilon can affect the number of support vectors in SVR\n",
        "in a couple of ways:\n",
        "\n",
        "Fewer support vectors: As the value of epsilon increases, the width of the epsilon-insensitive tube also increases. This means that fewer data points will fall outside of the tube and become support vectors. As a result, increasing epsilon tends to reduce the number of support vectors.\n",
        "\n",
        "More support vectors: On the other hand, increasing epsilon can also cause some data points that were previously outside of the tube to move inside the tube and become support vectors. This is because increasing epsilon can make the SVR model more tolerant to errors and allow more data points to be within the tube. In some cases, this can lead to an increase in the number of support vectors.\n",
        "\n",
        "Overall, the effect of increasing epsilon on the number of support vectors in SVR will depend on the specific dataset and the other hyperparameters of the model. In practice, it is often necessary to tune the value of epsilon along with other hyperparameters to achieve the best performance.\n",
        "\n"
      ],
      "metadata": {
        "id": "N_mB5g2XioaJ"
      }
    },
    {
      "cell_type": "markdown",
      "source": [
        "#Question 4 : How does the choice of kernel function, C parameter, epsilon parameter affect the performance of SVR? Can you explain how each parameter works and provide examples of when you might increase or decrease the value?\n",
        "\n",
        "Answer :\n",
        "\n",
        "The choice of kernel function, C parameter, and epsilon parameter can all have a significant impact on the performance of Support Vector Regression (SVR).\n",
        "\n",
        "Kernel Function: The kernel function determines how the SVR model transforms the input data into a higher-dimensional feature space. Different kernel functions have different properties and are better suited for different types of data.\n",
        "\n",
        "Choosing the right kernel function can greatly improve the performance of the SVR model. It's usually a good idea to try different kernel functions and choose the one that performs the best on the validation set.For example:\n",
        "\n",
        "* Linear kernel: Suitable for linearly separable data and large datasets\n",
        "* Polynomial kernel: Suitable for non-linear data and can capture complex relationships\n",
        "* Radial basis function (RBF) kernel: Suitable for non-linear data and can capture local and global patterns\n",
        "\n",
        "C Parameter: The C parameter controls the trade-off between the complexity of the model and the degree to which deviations larger than epsilon are penalized. A larger C parameter means that the model is more tolerant of errors and may overfit the data, while a smaller C parameter means that the model is less tolerant of errors and may underfit the data. In general:\n",
        "\n",
        "If the training data is noisy or has outliers, a larger C parameter may be needed to allow the model to fit the data better.\n",
        "\n",
        "If the training data is clean or has few outliers, a smaller C parameter may be sufficient to obtain good performance.\n",
        "\n",
        "Epsilon Parameter: The epsilon parameter controls the width of the epsilon-insensitive tube, which is the region where errors are not penalized. A larger epsilon parameter means that the model is more tolerant of errors and may allow more data points to be within the tube, while a smaller epsilon parameter means that the model is less tolerant of errors and may force more data points outside the tube. In general:\n",
        "\n",
        "If the training data is noisy or has many outliers, a larger epsilon parameter may be needed to allow the model to fit the data better.\n",
        "\n",
        "If the training data is clean or has few outliers, a smaller epsilon parameter may be sufficient to obtain good performance.\n",
        "\n",
        "Overall, the choice of kernel function, C parameter, and epsilon parameter should be based on the characteristics of the data and the desired level of complexity of the model. It's often a good idea to try different combinations of hyperparameters and choose the ones that perform the best on the validation set.\n",
        "\n",
        "\n",
        "\n"
      ],
      "metadata": {
        "id": "aSYvP1Jii0fV"
      }
    },
    {
      "cell_type": "markdown",
      "source": [
        "Question 5 : Assignment\n",
        "\n",
        "Import necessary libraries and load the dataset\n",
        "\n",
        "Split the dataset into training and testing set\n",
        "\n",
        "Preprocess the data with any technique of your choice (eg. scaling, normaliazation)\n",
        "\n",
        "Create an instance of SVC Classifer and train it on training data\n",
        "\n",
        "Use trained Classifier to predict labels on testing data\n",
        "\n",
        "Evaluate the performance of classifier using any metric of your choice\n",
        "\n",
        "Tune Hyperparameter of SVC using GridSearchCV or RandomizedSearchCV to imporve the performance\n",
        "\n",
        "Train the tuned classifier for entire dataset\n",
        "\n",
        "Save the trained classifier to a file for future use"
      ],
      "metadata": {
        "id": "LiCjCrH3jT28"
      }
    },
    {
      "cell_type": "code",
      "source": [
        "# Import necessary libraries\n",
        "import seaborn as sns\n",
        "from sklearn.model_selection import train_test_split\n",
        "from sklearn.svm import SVC\n",
        "from sklearn.preprocessing import StandardScaler\n",
        "from sklearn.metrics import accuracy_score\n",
        "from sklearn.model_selection import GridSearchCV\n",
        "import joblib\n",
        "\n",
        "# Load the dataset\n",
        "iris = sns.load_dataset('iris')\n",
        "print(iris.head())\n",
        "print()\n",
        "# Split the dataset into training and testing sets\n",
        "X_train, X_test, y_train, y_test = train_test_split(iris.drop('species', axis=1), iris['species'], test_size=0.2, random_state=42)\n",
        "\n",
        "# Preprocess the data (scaling in this case)\n",
        "scaler = StandardScaler()\n",
        "X_train_scaled = scaler.fit_transform(X_train)\n",
        "X_test_scaled = scaler.transform(X_test)\n",
        "\n",
        "# Create an instance of SVC Classifier and train it on training data\n",
        "svc = SVC()\n",
        "svc.fit(X_train_scaled, y_train)\n",
        "\n",
        "# Use trained Classifier to predict labels on testing data\n",
        "y_pred = svc.predict(X_test_scaled)\n",
        "\n",
        "# Evaluate the performance of the classifier using accuracy\n",
        "accuracy = accuracy_score(y_test, y_pred)\n",
        "print(f\"Accuracy: {accuracy:.2f}\")\n",
        "print()\n",
        "# Tune Hyperparameters using GridSearchCV\n",
        "param_grid = {'C': [0.1, 1, 10], 'kernel': ['linear', 'rbf', 'poly'], 'gamma': ['scale', 'auto']}\n",
        "grid_search = GridSearchCV(SVC(), param_grid, cv=5)\n",
        "grid_search.fit(X_train_scaled, y_train)\n",
        "print('Best Params:',grid_search.best_params_)\n",
        "\n",
        "# Train the tuned classifier for the entire dataset\n",
        "tuned_svc = grid_search.best_estimator_\n",
        "tuned_svc.fit(scaler.transform(iris.drop('species', axis=1)), iris['species'])\n",
        "\n",
        "# Save the trained classifier to a file for future use\n",
        "joblib.dump(tuned_svc, 'svm_classifier.joblib')"
      ],
      "metadata": {
        "colab": {
          "base_uri": "https://localhost:8080/"
        },
        "id": "kktCv9Dbxhjd",
        "outputId": "ff0a4c61-d165-4d60-c24b-fdd34eb534ab"
      },
      "execution_count": 2,
      "outputs": [
        {
          "output_type": "stream",
          "name": "stdout",
          "text": [
            "   sepal_length  sepal_width  petal_length  petal_width species\n",
            "0           5.1          3.5           1.4          0.2  setosa\n",
            "1           4.9          3.0           1.4          0.2  setosa\n",
            "2           4.7          3.2           1.3          0.2  setosa\n",
            "3           4.6          3.1           1.5          0.2  setosa\n",
            "4           5.0          3.6           1.4          0.2  setosa\n",
            "\n",
            "Accuracy: 1.00\n",
            "\n",
            "Best Params: {'C': 10, 'gamma': 'scale', 'kernel': 'linear'}\n"
          ]
        },
        {
          "output_type": "execute_result",
          "data": {
            "text/plain": [
              "['svm_classifier.joblib']"
            ]
          },
          "metadata": {},
          "execution_count": 2
        }
      ]
    },
    {
      "cell_type": "code",
      "source": [],
      "metadata": {
        "id": "mTI7xsP7yskb"
      },
      "execution_count": null,
      "outputs": []
    }
  ]
}