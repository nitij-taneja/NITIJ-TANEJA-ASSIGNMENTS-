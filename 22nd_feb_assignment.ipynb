{
 "cells": [
  {
   "cell_type": "code",
   "execution_count": 5,
   "id": "e169bce7-f19e-45f0-b70b-f4d6875525d5",
   "metadata": {},
   "outputs": [],
   "source": [
    "from selenium import webdriver\n",
    "from selenium.webdriver.common.by import By\n",
    "from webdriver_manager.chrome import ChromeDriverManager"
   ]
  },
  {
   "cell_type": "code",
   "execution_count": 6,
   "id": "71007c94-6792-4e96-9afb-86ceea9b4041",
   "metadata": {},
   "outputs": [
    {
     "name": "stdout",
     "output_type": "stream",
     "text": [
      "Requirement already satisfied: selenium in /opt/conda/lib/python3.10/site-packages (4.12.0)\n",
      "Requirement already satisfied: certifi>=2021.10.8 in /opt/conda/lib/python3.10/site-packages (from selenium) (2022.12.7)\n",
      "Requirement already satisfied: urllib3[socks]<3,>=1.26 in /opt/conda/lib/python3.10/site-packages (from selenium) (1.26.13)\n",
      "Requirement already satisfied: trio-websocket~=0.9 in /opt/conda/lib/python3.10/site-packages (from selenium) (0.10.4)\n",
      "Requirement already satisfied: trio~=0.17 in /opt/conda/lib/python3.10/site-packages (from selenium) (0.22.2)\n",
      "Requirement already satisfied: outcome in /opt/conda/lib/python3.10/site-packages (from trio~=0.17->selenium) (1.2.0)\n",
      "Requirement already satisfied: sniffio in /opt/conda/lib/python3.10/site-packages (from trio~=0.17->selenium) (1.3.0)\n",
      "Requirement already satisfied: sortedcontainers in /opt/conda/lib/python3.10/site-packages (from trio~=0.17->selenium) (2.4.0)\n",
      "Requirement already satisfied: exceptiongroup>=1.0.0rc9 in /opt/conda/lib/python3.10/site-packages (from trio~=0.17->selenium) (1.1.3)\n",
      "Requirement already satisfied: attrs>=20.1.0 in /opt/conda/lib/python3.10/site-packages (from trio~=0.17->selenium) (22.1.0)\n",
      "Requirement already satisfied: idna in /opt/conda/lib/python3.10/site-packages (from trio~=0.17->selenium) (3.4)\n",
      "Requirement already satisfied: wsproto>=0.14 in /opt/conda/lib/python3.10/site-packages (from trio-websocket~=0.9->selenium) (1.2.0)\n",
      "Requirement already satisfied: PySocks!=1.5.7,<2.0,>=1.5.6 in /opt/conda/lib/python3.10/site-packages (from urllib3[socks]<3,>=1.26->selenium) (1.7.1)\n",
      "Requirement already satisfied: h11<1,>=0.9.0 in /opt/conda/lib/python3.10/site-packages (from wsproto>=0.14->trio-websocket~=0.9->selenium) (0.14.0)\n"
     ]
    }
   ],
   "source": [
    "!pip install selenium"
   ]
  },
  {
   "cell_type": "code",
   "execution_count": 7,
   "id": "0962b7f6-4b37-4f74-9a26-524fbb9b27d8",
   "metadata": {},
   "outputs": [
    {
     "name": "stdout",
     "output_type": "stream",
     "text": [
      "Requirement already satisfied: webdriver_manager in /opt/conda/lib/python3.10/site-packages (4.0.1)\n",
      "Requirement already satisfied: python-dotenv in /opt/conda/lib/python3.10/site-packages (from webdriver_manager) (1.0.0)\n",
      "Requirement already satisfied: packaging in /opt/conda/lib/python3.10/site-packages (from webdriver_manager) (22.0)\n",
      "Requirement already satisfied: requests in /opt/conda/lib/python3.10/site-packages (from webdriver_manager) (2.28.1)\n",
      "Requirement already satisfied: idna<4,>=2.5 in /opt/conda/lib/python3.10/site-packages (from requests->webdriver_manager) (3.4)\n",
      "Requirement already satisfied: charset-normalizer<3,>=2 in /opt/conda/lib/python3.10/site-packages (from requests->webdriver_manager) (2.1.1)\n",
      "Requirement already satisfied: urllib3<1.27,>=1.21.1 in /opt/conda/lib/python3.10/site-packages (from requests->webdriver_manager) (1.26.13)\n",
      "Requirement already satisfied: certifi>=2017.4.17 in /opt/conda/lib/python3.10/site-packages (from requests->webdriver_manager) (2022.12.7)\n"
     ]
    }
   ],
   "source": [
    "!pip install webdriver_manager"
   ]
  },
  {
   "cell_type": "markdown",
   "id": "365959be-936c-4d60-9af8-af13759c54a4",
   "metadata": {},
   "source": [
    "Question 1 : Write a python program to extract the video URL of the first five videos."
   ]
  },
  {
   "cell_type": "code",
   "execution_count": 12,
   "id": "066604dc-1e8f-4414-8480-c14cfc006a2d",
   "metadata": {},
   "outputs": [],
   "source": [
    "from selenium import webdriver\n",
    "from selenium.webdriver.common.by import By\n",
    "from selenium.webdriver.chrome.service import Service\n",
    "\n",
    "# Importing Selenium webdriver in headless mode\n"
   ]
  },
  {
   "cell_type": "code",
   "execution_count": null,
   "id": "f7ef93e4-7677-47d0-afea-2e65e0d06699",
   "metadata": {},
   "outputs": [],
   "source": [
    "driver = webdriver.Chrome(ChromeDriverManager().install())\n",
    "driver.get(\"https://www.youtube.com/@PW-Foundation/videos\")"
   ]
  },
  {
   "cell_type": "code",
   "execution_count": null,
   "id": "c5a59bf2-4c9f-42f2-90e9-c504ab408852",
   "metadata": {},
   "outputs": [],
   "source": [
    "links = driver.find_elements(By.TAG_NAME,\"a\")\n",
    "urls = []\n",
    "for link in links:\n",
    "    url = link.get_attribute(\"href\")\n",
    "    urls.append(url)\n",
    "first_5_links = []\n",
    "for url in urls[17:25]:\n",
    "    if url == None:\n",
    "        continue\n",
    "    else:\n",
    "        first_5_links.append(url)\n",
    "print(first_5_links)"
   ]
  },
  {
   "cell_type": "markdown",
   "id": "cebc1389-fcd0-441d-8645-0bfd6271e156",
   "metadata": {},
   "source": [
    "Q2. Write a python program to extract the URL of the video thumbnails of the first five videos."
   ]
  },
  {
   "cell_type": "code",
   "execution_count": null,
   "id": "203c861b-98ab-468f-9c05-0bc02dd121c2",
   "metadata": {},
   "outputs": [],
   "source": [
    "driver.get(\"https://www.youtube.com/@PW-Foundation/videos\")\n",
    "links = driver.find_elements(By.TAG_NAME,\"img\")\n",
    "thumbnails = []\n",
    "for thumbnail in links[8:18]:\n",
    "    thumbnail = thumbnail.get_attribute(\"src\")\n",
    "    if thumbnail == None:\n",
    "        continue\n",
    "    else:\n",
    "        thumbnails.append(thumbnail)\n",
    "print(len(thumbnails))\n",
    "for i in thumbnails:\n",
    "    print(i)"
   ]
  },
  {
   "cell_type": "markdown",
   "id": "506e1109-0366-4ed0-9343-181c9231bed8",
   "metadata": {},
   "source": [
    "Q3. Write a python program to extract the title of the first five videos."
   ]
  },
  {
   "cell_type": "code",
   "execution_count": null,
   "id": "440a7b7a-b90c-41a8-a732-f4e2f4f4e627",
   "metadata": {},
   "outputs": [],
   "source": [
    "#title\n",
    "driver.get(\"https://www.youtube.com/@PW-Foundation/videos\")\n",
    "titles = driver.find_elements(By.TAG_NAME,\"yt-formatted-string\")\n",
    "titles_video = []\n",
    "# print(links)\n",
    "for i in titles[15:35:4]:\n",
    "    titles_video.append(i.text)\n",
    "print(titles_video)"
   ]
  },
  {
   "cell_type": "markdown",
   "id": "8285e372-6c36-4981-969b-42118ec54862",
   "metadata": {},
   "source": [
    "Q4. Write a python program to extract the number of views of the first five videos."
   ]
  },
  {
   "cell_type": "code",
   "execution_count": null,
   "id": "0904f6d3-1daf-4c84-b126-6b58b209653b",
   "metadata": {},
   "outputs": [],
   "source": [
    "#views\n",
    "driver.get(\"https://www.youtube.com/@PW-Foundation/videos\")\n",
    "views = driver.find_elements(By.TAG_NAME,\"span\")\n",
    "video_views = []\n",
    "for i in views[23:48]:\n",
    "    if str(\"views\") in i.text:\n",
    "        video_views.append(i.text)\n",
    "print(video_views)"
   ]
  },
  {
   "cell_type": "markdown",
   "id": "aad8d757-8cab-4dcd-ad64-3f54f3ff2f2b",
   "metadata": {},
   "source": [
    "Q5. Write a python program to extract the time of posting of video for the first five videos."
   ]
  },
  {
   "cell_type": "code",
   "execution_count": null,
   "id": "71fbc1b1-a342-41c8-b0e4-97c0cb62b690",
   "metadata": {},
   "outputs": [],
   "source": [
    "#posting time\n",
    "driver.get(\"https://www.youtube.com/@PW-Foundation/videos\")\n",
    "times = driver.find_elements(By.TAG_NAME,\"span\")\n",
    "video_times = []\n",
    "for i in times[24:]:\n",
    "    if str(\"day\") in i.text:\n",
    "        video_times.append(i.text)\n",
    "print(video_times)"
   ]
  },
  {
   "cell_type": "code",
   "execution_count": null,
   "id": "1258e953-4224-4a15-a7de-4b8b7826f53b",
   "metadata": {},
   "outputs": [],
   "source": [
    "# print(first_5_links)\n",
    "# print(thumbnails)\n",
    "# print(titles_video)\n",
    "# print(video_views)\n",
    "print(video_times)"
   ]
  },
  {
   "cell_type": "code",
   "execution_count": null,
   "id": "465879ee-d9ba-41af-97ef-004a26feae3d",
   "metadata": {},
   "outputs": [],
   "source": [
    "import csv\n",
    "for i in range(len(first_5_links)-1):\n",
    "    data_csv = str(first_5_links[i]),str(thumbnails[i]),str(titles_video[i]),str(video_views[i]),str(video_times[i])    \n",
    "\n",
    "    with open('video_details.csv', 'w',encoding='utf-8', newline='') as file:\n",
    "        writer = csv.writer(file)\n",
    "        writer.writerow(data_csv)\n",
    "print('done')"
   ]
  }
 ],
 "metadata": {
  "kernelspec": {
   "display_name": "Python 3 (ipykernel)",
   "language": "python",
   "name": "python3"
  },
  "language_info": {
   "codemirror_mode": {
    "name": "ipython",
    "version": 3
   },
   "file_extension": ".py",
   "mimetype": "text/x-python",
   "name": "python",
   "nbconvert_exporter": "python",
   "pygments_lexer": "ipython3",
   "version": "3.10.8"
  }
 },
 "nbformat": 4,
 "nbformat_minor": 5
}
