{
 "cells": [
  {
   "cell_type": "code",
   "execution_count": 2,
   "id": "cff06891-0b1e-4f5c-844f-ebd0cb33674c",
   "metadata": {},
   "outputs": [
    {
     "name": "stdout",
     "output_type": "stream",
     "text": [
      "Valid Password\n",
      "None\n"
     ]
    }
   ],
   "source": [
    "'''Q1. You are writing code for a company. The requirement of the company is that you create a python\n",
    "function that will check whether the password entered by the user is correct or not. The function should\n",
    "take the password as input and return the string “Valid Password” if the entered password follows the\n",
    "below-given password guidelines else it should return “Invalid Password”.\n",
    "Note: 1. The Password should contain at least two uppercase letters and at least two lowercase letters.\n",
    "2. The Password should contain at least a number and three special characters.\n",
    "3. The length of the password should be 10 characters long.'''\n",
    "\n",
    "import re\n",
    "def password(password):\n",
    "    flag = 0\n",
    "    if len(password) < 10:\n",
    "        flag = 1\n",
    "    else:\n",
    "        lowercase = re.findall(\"[a-z]\", password)\n",
    "        uppercase = re.findall(\"[A-Z]\", password)\n",
    "        digits = re.findall(\"[0-9]\", password)\n",
    "        special = re.findall(\"[_@$]\", password)\n",
    "        if len(lowercase) < 2 or len(uppercase) < 2 or len(digits) < 1 or len(special) < 3:\n",
    "            flag = 1\n",
    "    if flag == 1:\n",
    "        print(\"Invalid Password\")\n",
    "    else:\n",
    "        print(\"Valid Password\")\n",
    "print(password(\"4002@#@NitinSHH@\"))      "
   ]
  },
  {
   "cell_type": "code",
   "execution_count": 2,
   "id": "fd1a57e7-6098-473a-9427-6cc07d15caf3",
   "metadata": {},
   "outputs": [
    {
     "name": "stdout",
     "output_type": "stream",
     "text": [
      "True\n",
      "False\n",
      "\n",
      "True\n",
      "False\n",
      "\n",
      "[('orange', 80), ('mango', 99), ('grapes', 1000)]\n",
      "\n",
      "[1, 4, 9, 16, 25, 36, 49, 64, 81, 100]\n",
      "\n",
      "[1.0, 1.2599210498948732, 1.4422495703074083, 1.5874010519681994, 1.7099759466766968, 1.8171205928321397, 1.912931182772389, 2.0, 2.080083823051904, 2.154434690031884]\n",
      "\n",
      "True\n",
      "False\n",
      "\n",
      "[1, 3, 5, 7, 9]\n",
      "\n",
      "[1, 2, 3, 4, 5, 6]\n",
      "[-1, -2, -3, -4, -5]\n"
     ]
    }
   ],
   "source": [
    "'''Q2. Solve the below-given questions using at least one of the following:\n",
    "1. Lambda function\n",
    "2. Filter function\n",
    "3. Zap function\n",
    "4. List Comprehension\n",
    "# Check if the string starts with a particular letter.\n",
    "#Check if the string is numeric.\n",
    "# Sort a list of tuples having fruit names and their quantity. [(\"mango\",99),(\"orange\",80), (\"grapes\", 1000)-\n",
    "# Find the squares of numbers from 1 to 10.\n",
    "# Find the cube root of numbers from 1 to 10.\n",
    "# Check if a given number is even.\n",
    "# Filter odd numbers from the given list.\n",
    "[1,2,3,4,5,6,7,8,9,10-\n",
    "# Sort a list of integers into positive and negative integers lists.\n",
    "[1,2,3,4,5,6,-1,-2,-3,-4,-5,0]'''\n",
    "#Ans> 1.Check if the string starts with a particular letter:\n",
    "starts_with = lambda string, letter: string[0] == letter\n",
    "print(starts_with(\"Hello\", \"H\")) # True\n",
    "print(starts_with(\"Hello\", \"h\")) # False\n",
    "print()\n",
    "\n",
    "#2.Check if the string is numeric:\n",
    "def is_numeric(string):\n",
    "    return string.isdigit()\n",
    "print(is_numeric(\"123\")) # True\n",
    "print(is_numeric(\"abc\")) # False\n",
    "print()\n",
    "\n",
    "#3.Sort a list of tuples having fruit names and their quantity:\n",
    "fruits = [(\"mango\", 99), (\"orange\", 80), (\"grapes\", 1000)]\n",
    "def Sort_Tuple(tup):\n",
    "    return(sorted(tup, key = lambda x: x[1]))\n",
    "print(Sort_Tuple(fruits))#[('orange', 80), ('mango', 99), ('grapes', 1000)]\n",
    "print()\n",
    "\n",
    "#4.Find the squares of numbers from 1 to 10:\n",
    "squared_numbers = [x**2 for x in range(1, 11)]\n",
    "print(squared_numbers) # [1, 4, 9, 16, 25, 36, 49, 64, 81, 100]\n",
    "print()\n",
    "\n",
    "#5.Find the cube root of numbers from 1 to 10:\n",
    "import math\n",
    "cuberoot_numbers = [math.pow(x, 1/3) for x in range(1, 11)]\n",
    "print(cuberoot_numbers)\n",
    "print()\n",
    "\n",
    "#6.Check if a given number is even:\n",
    "def is_even(number):\n",
    "    return number % 2 == 0\n",
    "print(is_even(2)) # True\n",
    "print(is_even(3)) # False\n",
    "print()\n",
    "\n",
    "#7.Filter odd numbers from the given list:\n",
    "numbers = [1, 2, 3, 4, 5, 6, 7, 8, 9, 10]\n",
    "odd_numbers = [x for x in numbers if x % 2 != 0]\n",
    "print(odd_numbers) # [1, 3, 5, 7, 9]\n",
    "print()\n",
    "\n",
    "#8.Sort a list of integers into positive and negative integers lists:\n",
    "numbers = [1, 2, 3, 4, 5, 6, -1, -2, -3, -4, -5, 0]\n",
    "positive_numbers = [x for x in numbers if x > 0]\n",
    "negative_numbers = [x for x in numbers if x < 0]\n",
    "print(positive_numbers)# [1, 2, 3, 4,5,6]\n",
    "print(negative_numbers)#[-1 to -5]"
   ]
  },
  {
   "cell_type": "code",
   "execution_count": null,
   "id": "51a3f7a0-b8e8-44a3-906f-70634c00ba5a",
   "metadata": {},
   "outputs": [],
   "source": []
  }
 ],
 "metadata": {
  "kernelspec": {
   "display_name": "Python 3 (ipykernel)",
   "language": "python",
   "name": "python3"
  },
  "language_info": {
   "codemirror_mode": {
    "name": "ipython",
    "version": 3
   },
   "file_extension": ".py",
   "mimetype": "text/x-python",
   "name": "python",
   "nbconvert_exporter": "python",
   "pygments_lexer": "ipython3",
   "version": "3.10.8"
  }
 },
 "nbformat": 4,
 "nbformat_minor": 5
}
