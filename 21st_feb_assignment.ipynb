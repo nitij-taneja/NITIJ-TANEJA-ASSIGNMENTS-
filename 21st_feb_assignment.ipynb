{
 "cells": [
  {
   "cell_type": "markdown",
   "id": "96597506-d015-4f12-850c-130ccb2cb3d3",
   "metadata": {},
   "source": [
    "Q.1> What is Web Scrapping ? Why is it Used?Give three areas where Web Scrapping is used to get data.\n",
    "Ans> Web scraping, also known as web harvesting or web data extraction, refers to the process of automatically \n",
    "     extracting data from websites using software tools or scripts. Web scraping tools access the website's HTML \n",
    "     code and extract the data contained within it, typically by parsing the HTML and using regular expressions \n",
    "     or other algorithms to extract the desired information\n",
    "    \n",
    "    Web scraping is used for a variety of purposes, including market research, price monitoring, data analytics, \n",
    "    and content aggregation. By scraping data from multiple sources, businesses and researchers can gain insights \n",
    "    into consumer behavior, track competitor pricing and promotions, and build databases of product information and\n",
    "    customer reviews.\n",
    "    \n",
    "    Here are three areas where web scraping is commonly used to get data:\n",
    "\n",
    "    1. E-commerce: Online retailers can use web scraping to gather pricing and product information from competitors, \n",
    "       monitor customer reviews, and track changes in inventory levels. This information can help businesses stay \n",
    "       competitive and make informed pricing and inventory decisions.\n",
    "\n",
    "    2. Data analytics: Web scraping can be used to collect data on social media activity, online news articles, and \n",
    "       other web-based sources of information. This data can be analyzed to identify trends, track sentiment, and \n",
    "       gain insights into consumer behavior.\n",
    "\n",
    "    3. Research: Researchers in a variety of fields, including social sciences and humanities, can use web scraping \n",
    "       to gather data for their studies. For example, researchers might scrape data from online forums or social media \n",
    "       sites to analyze public opinion on a particular issue."
   ]
  },
  {
   "cell_type": "markdown",
   "id": "e1414ec1-e134-461e-9e4c-99a4e1e70684",
   "metadata": {},
   "source": [
    "Q.2> What are the different methods used for Web Scrapping ? \n",
    "Ans> There are several methods used for web scraping, depending on the type of data being extracted and the structure\n",
    "     of the website being scraped. Here are some of the most common methods:\n",
    "\n",
    "     Parsing HTML: This method involves parsing the HTML code of a website to extract specific data using regular \n",
    "     expressions or other parsing techniques. It is one of the simplest methods, but it can be limited by changes \n",
    "     to the website's HTML structure.\n",
    "\n",
    "     Web Scraping Libraries: Developers often use web scraping libraries like Beautiful Soup, Scrapy, or Puppeteer, \n",
    "     which provide pre-built functions and methods for accessing and scraping data from websites.\n",
    "\n",
    "     APIs: Some websites provide APIs (Application Programming Interfaces) that allow developers to access data in \n",
    "     a structured format. APIs can be used to extract data in real-time, and they often provide more reliable and \n",
    "     up-to-date data.\n",
    "\n",
    "     Headless Browsers: This method involves using headless browsers like PhantomJS or Selenium to automate web \n",
    "     browsing and extract data from dynamic websites that require user interaction.\n",
    "\n",
    "     Machine Learning: Some web scraping tasks can be automated using machine learning algorithms that can \n",
    "     identify patterns and extract data automatically. This method requires significant data preparation and \n",
    "     training, but it can be more powerful and flexible than other methods."
   ]
  },
  {
   "cell_type": "markdown",
   "id": "57b4859d-06cc-4d7a-8507-eb55fa341b58",
   "metadata": {},
   "source": [
    "Q.3> What is Beautiful Soup ? Why is it used ?\n",
    "Ans> Beautiful Soup is a Python library used for web scraping purposes. It provides a simple and efficient \n",
    "     way to parse HTML and XML documents, extract data, and navigate the document tree. Beautiful Soup can \n",
    "     handle poorly formatted HTML, making it a popular choice among web developers and data analysts.\n",
    "\n",
    "     Here are some of the reasons why Beautiful Soup is widely used for web scraping:\n",
    "\n",
    "     Easy to learn and use: Beautiful Soup has a user-friendly syntax and a simple API that makes it easy \n",
    "     for beginners to start scraping data from websites.\n",
    "\n",
    "     Robust parsing capabilities: Beautiful Soup can parse even the most poorly formatted HTML, making it a \n",
    "     flexible tool for web scraping.\n",
    "\n",
    "     Navigation and search: Beautiful Soup provides a range of search and navigation methods to locate and \n",
    "     extract data from specific parts of an HTML document.\n",
    "\n",
    "     Integration with other libraries: Beautiful Soup can be integrated with other Python libraries, such as \n",
    "     requests and pandas, to handle HTTP requests and manage scraped data.\n",
    "\n",
    "     Open source and community-driven: Beautiful Soup is an open-source library, meaning that it is freely \n",
    "     available and maintained by a large community of developers. This ensures that the library is continuously \n",
    "     updated and improved with new features and bug fixes.\n",
    "     "
   ]
  },
  {
   "cell_type": "code",
   "execution_count": null,
   "id": "3a420747-baa9-41de-9cda-a1f896e99560",
   "metadata": {},
   "outputs": [],
   "source": [
    "Q.4> Why is flask used in this Web Scraping project?\n",
    "Ans> Here are some of the reasons why Flask is commonly used in web scraping projects:\n",
    "\n",
    "     Easy to set up: Flask can be installed quickly and easily using pip, and requires minimal configuration to\n",
    "     get started.\n",
    "\n",
    "     Flexible routing: Flask provides a simple and intuitive routing system that allows developers to map URLs \n",
    "     to Python functions, making it easy to build web scrapers that follow a specific pattern or logic.\n",
    "\n",
    "     Lightweight and modular: Flask is a lightweight and modular framework that can be easily extended with third-party \n",
    "     libraries and plugins, making it easy to add functionality to your web scraper as needed.\n",
    "\n",
    "     Integration with other Python libraries: Flask integrates seamlessly with other popular Python libraries, such as \n",
    "     Beautiful Soup, Requests, and Pandas, making it easy to build a web scraper that leverages the power of these libraries.\n",
    "\n",
    "     Easy to deploy: Flask applications can be easily deployed to a wide range of hosting services, including Heroku, \n",
    "     Google Cloud, and Amazon Web Services."
   ]
  }
 ],
 "metadata": {
  "kernelspec": {
   "display_name": "Python 3 (ipykernel)",
   "language": "python",
   "name": "python3"
  },
  "language_info": {
   "codemirror_mode": {
    "name": "ipython",
    "version": 3
   },
   "file_extension": ".py",
   "mimetype": "text/x-python",
   "name": "python",
   "nbconvert_exporter": "python",
   "pygments_lexer": "ipython3",
   "version": "3.10.8"
  }
 },
 "nbformat": 4,
 "nbformat_minor": 5
}
