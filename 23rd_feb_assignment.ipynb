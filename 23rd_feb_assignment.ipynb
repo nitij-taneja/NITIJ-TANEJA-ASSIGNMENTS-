{
 "cells": [
  {
   "cell_type": "code",
   "execution_count": 1,
   "id": "727af95d-6d5d-420c-88a7-4e68f0d58222",
   "metadata": {},
   "outputs": [
    {
     "name": "stdout",
     "output_type": "stream",
     "text": [
      "    0\n",
      "0   4\n",
      "1   8\n",
      "2  15\n",
      "3  16\n",
      "4  23\n",
      "5  42\n"
     ]
    }
   ],
   "source": [
    " #Q.1> Create a Pandas Series that contains the following data: 4, 8, 15, 16, 23, and 42. Then, print the series.\n",
    "import pandas as pd \n",
    "data = [4, 8, 15, 16, 23, 42]\n",
    "df = pd.DataFrame(data)\n",
    "print(df)"
   ]
  },
  {
   "cell_type": "code",
   "execution_count": 2,
   "id": "80b130f7-e02c-47db-9375-0f9c40eeac93",
   "metadata": {},
   "outputs": [
    {
     "name": "stdout",
     "output_type": "stream",
     "text": [
      "          0\n",
      "0   sarfraj\n",
      "1    abshar\n",
      "2  abhishek\n",
      "3    faizan\n",
      "4    hammad\n",
      "5      asif\n",
      "6   arsalan\n",
      "7      faiz\n",
      "8     nesat\n",
      "9     nemat\n"
     ]
    }
   ],
   "source": [
    "#Q.2> Create a variable of list type containing 10 elements in it, and apply pandas.Series function on the\n",
    "#     variable print it.\n",
    "import pandas as pd \n",
    "data =  [\"sarfraj\" , \"abshar\" , \"abhishek\" , \"faizan\" , \"hammad\" , \"asif\" , \"arsalan\" , \"faiz\" , \"nesat\" ,\"nemat\"]\n",
    "df = pd.DataFrame(data)\n",
    "print(df)"
   ]
  },
  {
   "cell_type": "code",
   "execution_count": 3,
   "id": "db6ae88b-f56e-4be7-bd3c-81c51fed7254",
   "metadata": {},
   "outputs": [
    {
     "name": "stdout",
     "output_type": "stream",
     "text": [
      "     Name  Age  Gender\n",
      "0   Alice   25  Female\n",
      "1     Bob   30    Male\n",
      "2  Claire   27  Female\n"
     ]
    }
   ],
   "source": [
    "#Q.3> Create a Pandas DataFrame that contains the following data:\n",
    "#     Then, print the DataFrame.\n",
    "import pandas as pd \n",
    "data = {'Name': ['Alice' ,  'Bob' ,  'Claire'],\n",
    "\n",
    "        'Age': [25, 30, 27],\n",
    "\n",
    "        'Gender': ['Female', 'Male', 'Female']}\n",
    "df = pd.DataFrame(data)\n",
    "print(df)"
   ]
  },
  {
   "cell_type": "code",
   "execution_count": 4,
   "id": "b7510f5e-7c56-4e9d-8b68-06c469e7ec9c",
   "metadata": {},
   "outputs": [
    {
     "name": "stdout",
     "output_type": "stream",
     "text": [
      "      Name  Age  Gender\n",
      "0    Alice   25  Female\n",
      "1      Bob   30    Male\n",
      "2  Charlie   35    Male\n"
     ]
    }
   ],
   "source": [
    "'''Q.4> What is ‘DataFrame’ in pandas and how is it different from pandas.series? Explain with an example.\n",
    "   Ans>  In Pandas, a DataFrame is a two-dimensional labeled data structure with columns of potentially \n",
    "         different data types. It is similar to a spreadsheet  or a  SQL table. In a DataFrame , data is \n",
    "         organized in rows and columns, where each column can be considered as a Pandas Series.\n",
    "\n",
    "         On the other hand, a Series in Pandas is a one-dimensional labeled array that can contain data of any \n",
    "         data type, including integers, strings, and floating-point numbers. It is similar to a column in a \n",
    "         spreadsheet or a SQL table.\n",
    "\n",
    "         The main difference between a DataFrame and a Series is that a DataFrame is a two-dimensional data \n",
    "         structure with rows and columns, while a Series is a one-dimensional data structure with only one column.\n",
    "         Here's an example to illustrate the difference between a DataFrame and a Series:\n",
    "\n",
    "         Suppose we have the following data:\n",
    "         Name(Alice , Bob, Charlie) , Age(25, 3, 35) , Gender (Female,Male ,Male)\n",
    "         We can represent this data using a DataFrame in Pandas as follows:'''\n",
    "import pandas as pd\n",
    "\n",
    "data = {'Name': ['Alice', 'Bob', 'Charlie'],\n",
    "        'Age': [25, 30, 35],\n",
    "        'Gender': ['Female', 'Male', 'Male']}\n",
    "\n",
    "df = pd.DataFrame(data)\n",
    "\n",
    "print(df)"
   ]
  },
  {
   "cell_type": "code",
   "execution_count": null,
   "id": "1c8612bb-d6a3-40b6-87cf-b984728e9701",
   "metadata": {},
   "outputs": [],
   "source": [
    "#Q.5> What are some common functions you can use to manipulate data in a Pandas DataFrame? Can\n",
    "     #you give an example of when you might use one of these functions?\n",
    "\n",
    "    # 1. head() and tail(): These functions are used to view the first and last n rows of a DataFrame, \n",
    "    #    respectively. They can be useful for quickly getting a sense of what the data looks like.\n",
    "     #   Example:\n",
    "import pandas as pd\n",
    "\n",
    "df = pd.read_csv('data.csv')\n",
    "\n",
    "# View the first 5 rows\n",
    "print(df.head())\n",
    "\n",
    "# View the last 5 rows\n",
    "print(df.tail())\n",
    "    \n",
    "   # 2. describe(): This function provides a statistical summary of the DataFrame, including the count, \n",
    "    #    mean, standard deviation, minimum, and maximum values, among others.\n",
    "     #   Example:\n",
    "import pandas as pd\n",
    "\n",
    "df = pd.read_csv('data.csv')\n",
    "\n",
    "# Get a statistical summary of the DataFrame\n",
    "print(df.describe())\n",
    "\n",
    "    # 3. groupby(): This function is used to group data in a DataFrame based on one or more columns. \n",
    "     #   It can be useful for calculating aggregate statistics for different groups.\n",
    "      #  Example:\n",
    "import pandas as pd\n",
    "\n",
    "df = pd.read_csv('data.csv')\n",
    "\n",
    "# Group the data by the 'category' column and calculate the mean of the 'value' column\n",
    "grouped = df.groupby('category').mean()\n",
    "\n",
    "print(grouped)\n",
    "\n",
    "   #  4. sort_values(): This function is used to sort the rows of a DataFrame based on one or more columns.\n",
    "    # Example:\n",
    "import pandas as pd\n",
    "\n",
    "df = pd.read_csv('data.csv')\n",
    "\n",
    "# Sort the DataFrame by the 'value' column in descending order\n",
    "sorted_df = df.sort_values('value', ascending=False)\n",
    "\n",
    "print(sorted_df)"
   ]
  },
  {
   "cell_type": "markdown",
   "id": "6242ddaa-813d-4940-9e97-46320b9a6d09",
   "metadata": {},
   "source": [
    "Q.6> Which of the following is mutable in nature Series, DataFrame, Panel?\n",
    "\n",
    "Ans> In Pandas, both Series and DataFrame are value mutable in nature, while Panel is considered deprecated \n",
    "     and has been replaced by multi-dimensional arrays, such as numpy.ndarray or xarray.DataArray, \n",
    "     which are also mutable.\n",
    "\n",
    "     In a mutable object, the contents of the object can be modified after it is created. This means \n",
    "     that you can add, remove, or update elements after they are created; series is value mutable but not size mutable whereas dataframe is both value and size mutable."
   ]
  },
  {
   "cell_type": "code",
   "execution_count": 5,
   "id": "35a74ea0-50cc-45c2-8760-119b20eff0c8",
   "metadata": {},
   "outputs": [
    {
     "name": "stdout",
     "output_type": "stream",
     "text": [
      "      Name  Age  Gender\n",
      "0    Alice   25  Female\n",
      "1      Bob   30    Male\n",
      "2  Charlie   35    Male\n",
      "3    David   40    Male\n",
      "4    Emily   45  Female\n"
     ]
    }
   ],
   "source": [
    "#Q.7> Create a DataFrame using multiple Series. Explain with an example.\n",
    "import pandas as pd\n",
    "\n",
    "# Create a Series for each column of data\n",
    "names = pd.Series(['Alice', 'Bob', 'Charlie', 'David', 'Emily'])\n",
    "ages = pd.Series([25, 30, 35, 40, 45])\n",
    "genders = pd.Series(['Female', 'Male', 'Male', 'Male', 'Female'])\n",
    "\n",
    "# Combine the Series into a DataFrame\n",
    "df = pd.DataFrame({'Name': names, 'Age': ages, 'Gender': genders})\n",
    "\n",
    "# Print the resulting DataFrame\n",
    "print(df)"
   ]
  },
  {
   "cell_type": "code",
   "execution_count": null,
   "id": "bde2b4db-4de3-4172-aaa1-70fd3e49d46a",
   "metadata": {},
   "outputs": [],
   "source": []
  }
 ],
 "metadata": {
  "kernelspec": {
   "display_name": "Python 3 (ipykernel)",
   "language": "python",
   "name": "python3"
  },
  "language_info": {
   "codemirror_mode": {
    "name": "ipython",
    "version": 3
   },
   "file_extension": ".py",
   "mimetype": "text/x-python",
   "name": "python",
   "nbconvert_exporter": "python",
   "pygments_lexer": "ipython3",
   "version": "3.10.8"
  }
 },
 "nbformat": 4,
 "nbformat_minor": 5
}
