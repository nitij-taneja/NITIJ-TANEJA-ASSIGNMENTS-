{
 "cells": [
  {
   "cell_type": "markdown",
   "id": "26048a89-fab4-49a8-ab89-7bfa3b417e5e",
   "metadata": {},
   "source": [
    "Q1: What is the difference between a t-test and a z-test? Provide an example scenario where you would use each type of test.\n",
    "A t-test and a z-test are both statistical tests used to make inferences about population parameters based on sample data. However, there are some differences between the two tests, primarily related to the assumptions made about the population and the sample size.\n",
    "\n",
    "A z-test assumes that the sample comes from a normally distributed population, and the population standard deviation is known. This test is used when the sample size is large (typically, n > 30) and the population variance is known or can be assumed to be known. For example, if a company wants to test if the mean height of their employees is different from the national average, and they know the standard deviation of the population height, they can use a z-test.\n",
    "\n",
    "On the other hand, a t-test assumes that the sample comes from a normally distributed population, and the population standard deviation is unknown. This test is used when the sample size is small (typically, n < 30) or when the population variance is unknown. For example, if a researcher wants to test if a new drug has a different effect than a placebo, they can use a t-test to compare the mean scores of two groups of participants.\n",
    "\n",
    "Example scenarios:\n",
    "\n",
    "A company wants to compare the mean salary of their employees to the national average salary. They have a large sample size (n>30) and know the population standard deviation. They can use a z-test to make this comparison.\n",
    "\n",
    "A researcher wants to compare the mean test scores of two groups of students. They have a small sample size (n<30) and do not know the population standard deviation. They can use a t-test to make this comparison.\n",
    "\n",
    "Q2: Differentiate between one-tailed and two-tailed tests.\n",
    "In hypothesis testing, the null hypothesis (H0) is a statement about a population parameter that is assumed to be true unless there is sufficient evidence to reject it in favor of an alternative hypothesis (Ha). The alternative hypothesis is the statement that the researcher is trying to support.\n",
    "\n",
    "One-tailed tests and two-tailed tests are types of hypothesis tests that differ in the directionality of the alternative hypothesis.\n",
    "\n",
    "A one-tailed test is a hypothesis test in which the alternative hypothesis specifies the direction of the effect or difference being tested. That is, the researcher is interested in whether the population parameter is either greater than or less than a certain value, but not both. Therefore, the rejection region for the null hypothesis is only on one side of the distribution. A one-tailed test is often used when the researcher has a specific directional hypothesis or when there is a theoretical or practical reason to expect an effect in a specific direction.\n",
    "\n",
    "For example, a one-tailed test might be used to test the hypothesis that a new medication will decrease the amount of time it takes for patients to fall asleep. The alternative hypothesis would be that the medication decreases the amount of time it takes for patients to fall asleep, and the null hypothesis would be that the medication has no effect on the amount of time it takes for patients to fall asleep.\n",
    "\n",
    "In contrast, a two-tailed test is a hypothesis test in which the alternative hypothesis does not specify the direction of the effect or difference being tested. That is, the researcher is interested in whether the population parameter is different from a certain value in any direction. Therefore, the rejection region for the null hypothesis is split between both sides of the distribution. A two-tailed test is often used when the researcher has no specific directional hypothesis or when there is no theoretical or practical reason to expect an effect in a specific direction.\n",
    "\n",
    "For example, a two-tailed test might be used to test the hypothesis that the mean weight of male and female newborns is the same. The alternative hypothesis would be that the mean weight of male and female newborns is different, and the null hypothesis would be that the mean weight of male and female newborns is equal.\n",
    "\n",
    "In summary, one-tailed tests and two-tailed tests differ in the directionality of the alternative hypothesis, and the choice between the two depends on the research question and the directional nature of the hypothesis."
   ]
  },
  {
   "cell_type": "markdown",
   "id": "e8e4e806-681b-4e54-85e4-48a1f8d60c47",
   "metadata": {},
   "source": [
    "Q3: Explain the concept of Type 1 and Type 2 errors in hypothesis testing. Provide an example scenario for each type of error.\n",
    "In hypothesis testing, Type I and Type II errors are two types of errors that can occur when testing a hypothesis.\n",
    "\n",
    "Type I error is the error that occurs when the null hypothesis is rejected when it is actually true. In other words, it is the false positive error, where we reject the null hypothesis even though it is correct. The probability of making a Type I error is denoted by alpha (α) and is often set at 0.05 or 0.01.\n",
    "\n",
    "For example, suppose a researcher is testing the effectiveness of a new medication on a disease. The null hypothesis is that the medication has no effect on the disease, and the alternative hypothesis is that the medication has an effect. If the researcher rejects the null hypothesis and concludes that the medication is effective, but in reality, it is not, then a Type I error has occurred.\n",
    "\n",
    "Type II error is the error that occurs when the null hypothesis is not rejected when it is actually false. In other words, it is the false negative error, where we fail to reject the null hypothesis even though it is incorrect. The probability of making a Type II error is denoted by beta (β).\n",
    "\n",
    "For example, suppose a researcher is testing the effectiveness of a new medication on a disease. The null hypothesis is that the medication has no effect on the disease, and the alternative hypothesis is that the medication has an effect. If the researcher fails to reject the null hypothesis and concludes that the medication is not effective, but in reality, it is effective, then a Type II error has occurred.\n",
    "\n",
    "The relationship between Type I and Type II errors is inverse, meaning that decreasing the probability of one type of error increases the probability of the other type of error.\n",
    "\n",
    "Example scenario:\n",
    "\n",
    "Type I error: A car alarm system is designed to go off if an intruder tries to break in. However, if the alarm goes off when no one is trying to break in, it is a false positive, which is a Type I error.\n",
    "\n",
    "Type II error: A pregnancy test is designed to detect the presence of the hormone hCG, which indicates pregnancy. However, if the test does not detect hCG when the woman is actually pregnant, it is a false negative, which is a Type II error."
   ]
  },
  {
   "cell_type": "markdown",
   "id": "cc46f100-76f3-491a-ba97-ee7a4e59db85",
   "metadata": {},
   "source": [
    "Q4: Explain Bayes's theorem with an example.\n",
    "Bayes's theorem is a mathematical formula used to calculate the conditional probability of an event based on prior knowledge of related events. It is named after Thomas Bayes, an 18th-century statistician, and philosopher.\n",
    "\n",
    "Bayes's theorem can be expressed as follows:\n",
    "\n",
    "P(A|B) = P(B|A) * P(A) / P(B)\n",
    "\n",
    "where P(A|B) is the probability of event A given event B has occurred, P(B|A) is the probability of event B given that event A has occurred, P(A) is the prior probability of event A, and P(B) is the prior probability of event B.\n",
    "\n",
    "An example scenario where Bayes's theorem can be applied is in medical diagnosis. Suppose a patient exhibits certain symptoms that may indicate the presence of a disease. The probability of having the disease given the symptoms can be calculated using Bayes's theorem.\n",
    "\n",
    "Let's say that the disease is present in 1% of the population, and the probability of a person exhibiting the symptoms given that they have the disease is 90%. On the other hand, the probability of a person exhibiting the symptoms without having the disease is 10%. Using this information, we can apply Bayes's theorem to calculate the probability of a person having the disease given that they exhibit the symptoms.\n",
    "\n",
    "P(Disease|Symptoms) = P(Symptoms|Disease) * P(Disease) / P(Symptoms)\n",
    "\n",
    "where P(Disease|Symptoms) is the probability of having the disease given the symptoms, P(Symptoms|Disease) is the probability of exhibiting the symptoms given the disease, P(Disease) is the prior probability of having the disease, and P(Symptoms) is the prior probability of exhibiting the symptoms.\n",
    "\n",
    "Plugging in the values, we get:\n",
    "\n",
    "P(Disease|Symptoms) = 0.90 * 0.01 / ((0.90 * 0.01) + (0.10 * 0.99))\n",
    "\n",
    "= 0.08\n",
    "\n",
    "Therefore, the probability of having the disease given the symptoms is 8%. This means that even though the patient exhibits the symptoms, there is still only an 8% chance of having the disease."
   ]
  },
  {
   "cell_type": "markdown",
   "id": "eb958501-c971-494a-b391-4a68b400c715",
   "metadata": {},
   "source": [
    "Q5: What is a confidence interval? How to calculate the confidence interval, explain with an example.\n",
    "A confidence interval is a range of values that is likely to contain the true value of a population parameter with a certain degree of confidence. In other words, it is a range of values around a sample statistic that is likely to contain the true population parameter value with a certain level of certainty or probability.\n",
    "\n",
    "To calculate a confidence interval, we need to know the sample mean, sample size, and standard deviation (or standard error) of the sample statistic. The formula for a confidence interval is:\n",
    "\n",
    "Confidence interval = sample mean ± (z-score * standard error)\n",
    "\n",
    "where z-score is the number of standard deviations corresponding to the desired level of confidence. For example, for a 95% confidence interval, the z-score would be 1.96.\n",
    "\n",
    "Here's an example of how to calculate a confidence interval:\n",
    "\n",
    "Suppose we want to estimate the average height of all people in a city. We take a random sample of 50 people and find that the sample mean height is 170 cm, and the sample standard deviation is 5 cm.\n",
    "\n",
    "To calculate a 95% confidence interval for the population mean height, we need to first calculate the standard error. The standard error is calculated as:\n",
    "\n",
    "Standard error = sample standard deviation / sqrt(sample size)\n",
    "\n",
    "= 5 / sqrt(50)\n",
    "\n",
    "= 0.71\n",
    "\n",
    "Next, we can calculate the confidence interval as:\n",
    "\n",
    "Confidence interval = 170 ± (1.96 * 0.71)\n",
    "\n",
    "= 168.6 to 171.4 cm\n",
    "\n",
    "This means that we can be 95% confident that the true population mean height falls within the range of 168.6 to 171.4 cm. We can interpret this as if we repeat this sampling process many times, 95% of the time, the true population mean height will be contained within this interval."
   ]
  },
  {
   "cell_type": "markdown",
   "id": "f9874a75-b715-47e2-baa2-1add1d9bf730",
   "metadata": {},
   "source": [
    "Q6. Use Bayes' Theorem to calculate the probability of an event occurring given prior knowledge of the event's probability and new evidence. Provide a sample problem and solution.\n",
    "Sure, here's an example problem that uses Bayes' theorem:\n",
    "\n",
    "Suppose a new medical test has been developed to detect a certain disease, which affects 1% of the population. The test has a false positive rate of 5%, meaning that 5% of the time, a healthy person will test positive for the disease. The test also has a false negative rate of 10%, meaning that 10% of the time, a person with the disease will test negative. Suppose a person takes the test and receives a positive result. What is the probability that the person actually has the disease?\n",
    "\n",
    "Let's define some terms first:\n",
    "\n",
    "A: the event that the person has the disease B: the event that the person tests positive for the disease We want to find P(A|B), the probability that the person has the disease given a positive test result. We can use Bayes' theorem to calculate this as follows:\n",
    "\n",
    "P(A|B) = P(B|A) * P(A) / P(B)\n",
    "\n",
    "where P(B|A) is the probability of testing positive given that the person has the disease, P(A) is the prior probability of the person having the disease, and P(B) is the probability of testing positive for the disease.\n",
    "\n",
    "Using the information given in the problem, we can calculate these probabilities as follows:\n",
    "\n",
    "P(B|A) = 1 - 0.10 = 0.90 (the probability of testing positive given that the person has the disease is 90%) P(A) = 0.01 (the prior probability of the person having the disease is 1%) P(B) = P(B|A) * P(A) + P(B|not A) * P(not A) = 0.90 * 0.01 + 0.05 * 0.99 (the probability of testing positive is the sum of the probability of a true positive and a false positive) Plugging these values into the Bayes' theorem formula, we get:\n",
    "\n",
    "P(A|B) = 0.90 * 0.01 / (0.90 * 0.01 + 0.05 * 0.99)\n",
    "\n",
    "= 0.15\n",
    "\n",
    "Therefore, the probability that the person actually has the disease given a positive test result is 15%. This means that the test is not very accurate, and there is still a high chance of a false positive result."
   ]
  },
  {
   "cell_type": "markdown",
   "id": "013f61cb-ead4-4562-ba0a-0acec7cb922f",
   "metadata": {},
   "source": [
    "Question 7 : Calculate the 95% confidence interval for a sample of data with a mean of 50 and a standard deviation of 5. Interpret the results.\n",
    "Answer :\n",
    "Sample Size is not provided in above Question , I am assuming sample size of 30"
   ]
  },
  {
   "cell_type": "code",
   "execution_count": 1,
   "id": "70a20d5a-76ed-47c4-8866-ffb4e8f82485",
   "metadata": {},
   "outputs": [
    {
     "name": "stdout",
     "output_type": "stream",
     "text": [
      "t statistic for significance level 0.05 , sample size of 30 is : 2.05\n",
      "The 95% confidence interval is (48.13, 51.87)\n"
     ]
    }
   ],
   "source": [
    "import math\n",
    "import scipy.stats as stats\n",
    "\n",
    "# Define the sample mean, standard deviation, and sample size\n",
    "sample_mean = 50\n",
    "sample_std_dev = 5\n",
    "sample_size = 30\n",
    "\n",
    "# Signficance Level\n",
    "alpha = 0.05\n",
    "\n",
    "# Calculate the critical value for a 95% confidence interval\n",
    "t_crit = stats.t.ppf(1-alpha/2, df=sample_size-1)\n",
    "print(f't statistic for significance level {alpha} , sample size of {sample_size} is : {t_crit:.2f}')\n",
    "\n",
    "# Calculate the standard error\n",
    "std_error = sample_std_dev / math.sqrt(sample_size)\n",
    "\n",
    "# Calculate the lower and upper bounds of the confidence interval\n",
    "lower_bound = sample_mean - t_crit * std_error\n",
    "upper_bound = sample_mean + t_crit * std_error\n",
    "\n",
    "# Print the results\n",
    "print(f\"The 95% confidence interval is ({lower_bound:.2f}, {upper_bound:.2f})\")"
   ]
  },
  {
   "cell_type": "markdown",
   "id": "26a1ff5e-650c-4058-aa58-e8776e01ee2f",
   "metadata": {},
   "source": [
    "Above results mean that I can say with 95% condfidence that the POPULATION MEAN Lies in between 48.13 and 51.87"
   ]
  },
  {
   "cell_type": "markdown",
   "id": "9d699d20-3834-4002-9094-14364992a3bd",
   "metadata": {},
   "source": [
    "Question 8 : What is the margin of error in a confidence interval? How does sample size affect the margin of error?\n",
    "Provide an example of a scenario where a larger sample size would result in a smaller margin of error\n",
    "\n",
    "\n",
    "Answer :\n",
    "\n",
    "The margin of error in a confidence interval is the range of values around the sample statistic (such as the sample mean) within which we expect the true population parameter (such as the population mean) to lie with a certain level of confidence. The margin of error is affected by the sample size, level of confidence, and standard deviation of the population.\n",
    "\n",
    "As the sample size increases, the margin of error decreases because larger samples provide more information about the population, and hence the sample statistics are more likely to be representative of the population. The decrease in margin of error with an increase in sample size follows the square root law, which states that the margin of error decreases by the square root of the sample size.\n",
    "\n",
    "For example, suppose we want to estimate the average height of all students in a university using a random sample of students. We take a sample of 50 students and calculate their average height to be 170 cm with a standard deviation of 5 cm. We want to calculate a 95% confidence interval for the true population mean height.\n",
    "\n",
    "Using the formula for the margin of error for a confidence interval, we get:\n",
    "\n",
    "Margin of error = z * (standard deviation / sqrt(sample size))\n",
    "\n",
    "For a 95% confidence interval, the critical z-value is 1.96. So, plugging in the values, we get:\n",
    "\n",
    "Margin of error = 1.96 * (5 / sqrt(50)) = 1.38 cm\n",
    "\n",
    "This means that we are 95% confident that the true population mean height is within 1.38 cm of our sample mean of 170 cm. If we had taken a larger sample size of 200 students, the margin of error would have been:\n",
    "\n",
    "Margin of error = 1.96 * (5 / sqrt(200)) = 0.98 cm\n",
    "\n",
    "So, a larger sample size would result in a smaller margin of error, making our estimate of the true population mean height more precise."
   ]
  },
  {
   "cell_type": "markdown",
   "id": "72cbdd2f-b6dd-47a5-978a-b8bebda35522",
   "metadata": {},
   "source": [
    "Question 9 : Calculate the z-score for a data point with a value of 75, a population mean of 70, and a population standard deviation of 5. Interpret the results.\n",
    "\n",
    "Answer :\n",
    "Below is my python code to calculate above Z Score"
   ]
  },
  {
   "cell_type": "code",
   "execution_count": 2,
   "id": "c812337c-949f-480e-9617-21f517f6d777",
   "metadata": {},
   "outputs": [
    {
     "name": "stdout",
     "output_type": "stream",
     "text": [
      "The z-score is: 1.0\n"
     ]
    }
   ],
   "source": [
    "# Define the values\n",
    "x = 75  # Data point value\n",
    "mu = 70  # Population mean\n",
    "sigma = 5  # Population standard deviation\n",
    "\n",
    "# Calculate the z-score\n",
    "z = (x - mu) / sigma\n",
    "\n",
    "print(f\"The z-score is: {z}\")"
   ]
  },
  {
   "cell_type": "markdown",
   "id": "701beccb-e774-4ee8-9593-bb8c2fd15bc5",
   "metadata": {},
   "source": [
    "This means that the data point is 1 standard deviation above the population mean. A positive z-score indicates that the data point is above the mean, while a negative z-score indicates that it is below the mean. The magnitude of the z-score tells us how far away the data point is from the mean in terms of standard deviations."
   ]
  },
  {
   "cell_type": "code",
   "execution_count": 3,
   "id": "51dacd42-8951-4eb6-a8fa-d60bed7919d9",
   "metadata": {},
   "outputs": [
    {
     "name": "stdout",
     "output_type": "stream",
     "text": [
      "The percentage of values below a z-score of 1 is: 84.13%\n"
     ]
    }
   ],
   "source": [
    "from scipy.stats import norm\n",
    "\n",
    "# Calculate the percentage of values below a z-score of 1\n",
    "percent_below = norm.cdf(z) * 100\n",
    "\n",
    "print(f\"The percentage of values below a z-score of 1 is: {percent_below:.2f}%\")"
   ]
  },
  {
   "cell_type": "markdown",
   "id": "c4b89e98-93c5-4814-9fbd-433260254a87",
   "metadata": {},
   "source": [
    "A z-score of 1 corresponds to approximately 84.13% of values being below this value in a standard normal distribution."
   ]
  },
  {
   "cell_type": "markdown",
   "id": "2b86b69f-8210-4d49-b86a-2398099f2e68",
   "metadata": {},
   "source": [
    "Question 10 : In a study of the effectiveness of a new weight loss drug, a sample of 50 participants lost an average of 6 pounds with a standard deviation of 2.5 pounds. Conduct a hypothesis test to determine if the drug is significantly effective at a 95% confidence level using a t-test.\n",
    "\n",
    "Answer :"
   ]
  },
  {
   "cell_type": "code",
   "execution_count": 4,
   "id": "ccec27de-084f-48a6-94ec-d535c3960679",
   "metadata": {},
   "outputs": [
    {
     "name": "stdout",
     "output_type": "stream",
     "text": [
      "t-statistic: 16.9706\n",
      "p-value: 0.0\n",
      "Reject the null hypothesis. the drug is significantly effective.\n"
     ]
    }
   ],
   "source": [
    "import numpy as np\n",
    "from scipy.stats import t\n",
    "\n",
    "# Null hypothesis: the drug is not significantly effective\n",
    "# Alternative hypothesis: the drug is significantly effective\n",
    "alpha = 0.05  # significance level\n",
    "null_hypothesis = \"the drug is not significantly effective\"\n",
    "alternative_hypothesis = \"the drug is significantly effective\"\n",
    "\n",
    "mu = 0\n",
    "sample_mean = 6\n",
    "sample_std = 2.5\n",
    "n = 50\n",
    "df = n - 1  # degrees of freedom\n",
    "\n",
    "# Calculate the t-score and p-value\n",
    "t_score = (sample_mean - mu) / (sample_std / np.sqrt(n))\n",
    "p_value = 2 * (1 - t.cdf(abs(t_score), df))\n",
    "\n",
    "# Compare p-value with alpha and make a conclusion\n",
    "print(f\"t-statistic: {t_score:.4f}\")\n",
    "print(f\"p-value: {p_value}\")\n",
    "if p_value < alpha:\n",
    "    print(f\"Reject the null hypothesis. {alternative_hypothesis}.\")\n",
    "else:\n",
    "    print(f\"Fail to reject the null hypothesis. {null_hypothesis}.\")"
   ]
  },
  {
   "cell_type": "markdown",
   "id": "4872032e-053a-4b4e-adc9-1a528bd8d7d3",
   "metadata": {},
   "source": [
    "Question 11 : In a survey of 500 people, 65% reported being satisfied with their current job. Calculate the 95% confidence interval for the true proportion of people who are satisfied with their job.\n",
    "\n",
    "Answer :"
   ]
  },
  {
   "cell_type": "code",
   "execution_count": 6,
   "id": "8ddab790-2488-43de-ac9f-265d618fcd1e",
   "metadata": {},
   "outputs": [
    {
     "name": "stdout",
     "output_type": "stream",
     "text": [
      "The 95% confidence interval for the proportion of people who are satisfied with their job is 60.82%\n"
     ]
    }
   ],
   "source": [
    "import math\n",
    "\n",
    "p = 0.65  # sample proportion\n",
    "n = 500  # sample size\n",
    "z_alpha = 1.96  # z-score for 95% confidence level\n",
    "\n",
    "# Calculate the standard error\n",
    "se = math.sqrt((p * (1 - p)) / n)\n",
    "\n",
    "# Calculate the margin of error\n",
    "me = z_alpha * se\n",
    "\n",
    "# Calculate the confidence interval\n",
    "lower_bound = p - me\n",
    "upper_bound = p + me\n",
    "\n",
    "# Print the results\n",
    "print(f\"The 95% confidence interval for the proportion of people who are satisfied with their job is {lower_bound*100:.2f}%\")"
   ]
  },
  {
   "cell_type": "markdown",
   "id": "30cc656a-c8d3-497e-8cb5-f1dd3d9b8b05",
   "metadata": {},
   "source": [
    "Question 12 : A researcher is testing the effectiveness of two different teaching methods on student performance.Sample A has a mean score of 85 with a standard deviation of 6, while sample B has a mean score of 82 with a standard deviation of 5. Conduct a hypothesis test to determine if the two teaching methods have a significant difference in student performance using a t-test with a significance level of 0.01.\n",
    "\n",
    "Answer :"
   ]
  },
  {
   "cell_type": "code",
   "execution_count": 7,
   "id": "e9777fee-ac8d-443c-b0e5-79b372873975",
   "metadata": {},
   "outputs": [
    {
     "name": "stdout",
     "output_type": "stream",
     "text": [
      "t-statistic: 2.104\n",
      "Degrees of freedom: 58\n",
      "Critical t-value: 2.663\n",
      "p-value: 0.040\n",
      "Fail to reject null hypothesis.\n",
      "mu1 = mu2 (the means are equal)\n"
     ]
    }
   ],
   "source": [
    "import numpy as np\n",
    "from scipy.stats import t\n",
    "\n",
    "# Sample A\n",
    "x1 = 85\n",
    "s1 = 6\n",
    "n1 = 30\n",
    "\n",
    "# Sample B\n",
    "x2 = 82\n",
    "s2 = 5\n",
    "n2 = 30\n",
    "\n",
    "# Set up null and alternative hypotheses\n",
    "# H0: mu1 = mu2 (the means are equal)\n",
    "# Ha: mu1 != mu2 (the means are not equal)\n",
    "alpha = 0.01\n",
    "null_hypothesis = \"mu1 = mu2 (the means are equal)\"\n",
    "alternative_hypothesis = \"mu1 != mu2 (the means are not equal)\"\n",
    "\n",
    "# Calculate pooled standard deviation\n",
    "sp = np.sqrt(((n1 - 1) * s1 ** 2 + (n2 - 1) * s2 ** 2) / (n1 + n2 - 2))\n",
    "\n",
    "# Calculate t-statistic\n",
    "t_stat = (x1 - x2) / (sp * np.sqrt(1 / n1 + 1 / n2))\n",
    "\n",
    "# Calculate degrees of freedom\n",
    "df = n1 + n2 - 2\n",
    "\n",
    "# Calculate critical t-value\n",
    "t_crit = t.ppf(1-alpha / 2, df)\n",
    "\n",
    "# Calculate p-value\n",
    "p_value = 2 * (1 - t.cdf(abs(t_stat), df))\n",
    "\n",
    "# Print results\n",
    "print(f\"t-statistic: {t_stat:.3f}\")\n",
    "print(f\"Degrees of freedom: {df}\")\n",
    "print(f\"Critical t-value: {t_crit:.3f}\")\n",
    "print(f\"p-value: {p_value:.3f}\")\n",
    "\n",
    "if abs(t_stat) > t_crit:\n",
    "    print(\"Reject null hypothesis.\")\n",
    "    print(alternative_hypothesis)\n",
    "else:\n",
    "    print(\"Fail to reject null hypothesis.\")\n",
    "    print(null_hypothesis)"
   ]
  },
  {
   "cell_type": "markdown",
   "id": "ac103828-4974-45ae-921c-ee799e3be955",
   "metadata": {},
   "source": [
    "Q13. A population has a mean of 60 and a standard deviation of 8. A sample of 50 observations has a mean of 65. Calculate the 90% confidence interval for the true population mean."
   ]
  },
  {
   "cell_type": "code",
   "execution_count": 8,
   "id": "0625fe60-7b94-4f39-8f83-ab44d262a244",
   "metadata": {},
   "outputs": [
    {
     "name": "stdout",
     "output_type": "stream",
     "text": [
      "t statistic for 50 samples with 90% confidence is : 1.6766\n",
      "The 90% confidence interval for the true population mean is (63.103, 66.8968)\n"
     ]
    }
   ],
   "source": [
    "import math\n",
    "from scipy.stats import t\n",
    "\n",
    "pop_mean = 60\n",
    "pop_std = 8\n",
    "n = 50\n",
    "sample_mean = 65\n",
    "confidence_level = 0.90\n",
    "\n",
    "# Calculate the t-score\n",
    "t_score = (sample_mean - pop_mean) / (pop_std / math.sqrt(n))\n",
    "\n",
    "# Find the critical t-value\n",
    "df = n - 1\n",
    "t_crit = t.ppf((1+confidence_level)/2, df)\n",
    "print(f't statistic for {n} samples with {confidence_level*100:.0f}% confidence is : {t_crit:.4f}')\n",
    "\n",
    "# Calculate the margin of error\n",
    "margin_of_error = t_crit * (pop_std / math.sqrt(n))\n",
    "\n",
    "# Calculate the confidence interval\n",
    "lower_bound = sample_mean - margin_of_error\n",
    "upper_bound = sample_mean + margin_of_error\n",
    "\n",
    "# Print the results\n",
    "print(f\"The {confidence_level*100:.0f}% confidence interval for the true population mean is ({lower_bound:.3f}, {upper_bound:.4f})\")"
   ]
  },
  {
   "cell_type": "markdown",
   "id": "3b6a1499-0ee5-4b97-a9bb-306da0f09305",
   "metadata": {},
   "source": [
    "Q14. In a study of the effects of caffeine on reaction time, a sample of 30 participants had an average reaction time of 0.25 seconds with a standard deviation of 0.05 seconds. Conduct a hypothesis test to determine if the caffeine has a significant effect on reaction time at a 90% confidence level using a t-test.\n",
    "\n",
    "Answer :\n",
    "\n",
    "In this example popluation mean is not provided\n",
    "According to researchers typical human reaction time is 200ms to 300ms\n",
    "Here i have assumed the population mean as 300ms or 0.3 seconds"
   ]
  },
  {
   "cell_type": "code",
   "execution_count": 10,
   "id": "fa999270-02ac-4cb9-bbc1-a7d1ec244c33",
   "metadata": {},
   "outputs": [
    {
     "name": "stdout",
     "output_type": "stream",
     "text": [
      "t-statistic: -5.477\n",
      "t-critical value: 1.699\n",
      "90% Confidence Interval: (0.234, 0.266)\n",
      "Reject the null hypothesis\n",
      "Caffeine has a significant effect on reaction time\n"
     ]
    }
   ],
   "source": [
    "import math\n",
    "import scipy.stats as stats\n",
    "\n",
    "# Null Hypothesis: Caffeine has no significant effect on reaction time\n",
    "# Alternative Hypothesis: Caffeine has a significant effect on reaction time\n",
    "null_hypothesis = \"Caffeine has no significant effect on reaction time\"\n",
    "alternative_hypothesis = \"Caffeine has a significant effect on reaction time\"\n",
    "\n",
    "n=30\n",
    "sm=0.25\n",
    "sd=0.05\n",
    "popm=0.3\n",
    "alpha=0.1\n",
    "t_stat=(sm-popm)/(sd/math.sqrt(n))\n",
    "t_crit=stats.t.ppf(1-alpha/2,n-1)\n",
    "# Calculate the confidence interval\n",
    "margin_of_error = t_crit * (sd / math.sqrt(n))\n",
    "lower_ci = sm - margin_of_error\n",
    "upper_ci = sm + margin_of_error\n",
    "\n",
    "# Print the results\n",
    "print(f\"t-statistic: {t_stat:.3f}\")\n",
    "print(f\"t-critical value: {t_crit:.3f}\")\n",
    "print(f\"90% Confidence Interval: ({lower_ci:.3f}, {upper_ci:.3f})\")\n",
    "\n",
    "# Determine if the null hypothesis should be rejected or not\n",
    "if abs(t_stat) > t_crit:\n",
    "    print(\"Reject the null hypothesis\")\n",
    "    print(alternative_hypothesis)\n",
    "else:\n",
    "    print(\"Fail to reject the null hypothesis\")\n",
    "    print(null_hypothesis)\n",
    "\n"
   ]
  },
  {
   "cell_type": "code",
   "execution_count": null,
   "id": "03a9a58b-a92e-4bcc-9a0d-7d467d7d394e",
   "metadata": {},
   "outputs": [],
   "source": []
  }
 ],
 "metadata": {
  "kernelspec": {
   "display_name": "Python 3 (ipykernel)",
   "language": "python",
   "name": "python3"
  },
  "language_info": {
   "codemirror_mode": {
    "name": "ipython",
    "version": 3
   },
   "file_extension": ".py",
   "mimetype": "text/x-python",
   "name": "python",
   "nbconvert_exporter": "python",
   "pygments_lexer": "ipython3",
   "version": "3.10.8"
  }
 },
 "nbformat": 4,
 "nbformat_minor": 5
}
