{
 "cells": [
  {
   "cell_type": "markdown",
   "id": "55a09ec3-5e1e-4dea-8285-1f6a90af0a42",
   "metadata": {},
   "source": [
    "Q.1> Explain GET and POST methods.\n",
    "\n",
    "\n",
    "Ans>\n",
    "\n",
    "GET: The GET method is used to retrieve data from a server. When a user types a URL into a web browser, \n",
    "the browser sends a GET request to the server asking for the resource at that URL. The parameters for the \n",
    "request (such as search queries or page number) are included in the URL itself, separated by a question mark. \n",
    "Because the parameters are included in the URL, GET requests are visible to the user and can be bookmarked or \n",
    "shared. GET requests are also cached by browsers, which can speed up page load times for frequently visited pages.\n",
    "\n",
    "POST: The POST method is used to send data to a server. For example, when a user fills out a form on a website \n",
    "and clicks \"Submit,\" the data from the form is sent to the server using a POST request. Unlike GET requests, \n",
    "POST requests do not include parameters in the URL. Instead, they include the parameters in the request body, \n",
    "which is not visible to the user. This makes POST requests more secure for transmitting sensitive information \n",
    "such as passwords or credit card numbers. Because POST requests are not cached, they are slower than GET requests \n",
    "for repeated requests of the same data."
   ]
  },
  {
   "cell_type": "markdown",
   "id": "535f7f4a-7a45-451e-9b7c-e519a898df5e",
   "metadata": {},
   "source": [
    "Q.2> Why is request used in Flask?\n",
    "\n",
    "Ans> \n",
    "The request module in Flask is used to access incoming request data in Flask applications. When a client \n",
    "(such as a web browser) sends a request to a Flask web application, the application can use the request \n",
    "module to access information about the request, such as the HTTP method used (e.g. GET, POST, etc.), the \n",
    "data sent in the request body (if any), and any parameters or data sent as part of the request URL."
   ]
  },
  {
   "cell_type": "markdown",
   "id": "a04e8bf3-0f5e-4458-b747-8631f335889c",
   "metadata": {},
   "source": [
    "Q.3> Why is redirect() used in Flask?\n",
    "\n",
    "Ans> The redirect() function in Flask is used to redirect the user to a different URL or route within a \n",
    "     Flask application. When a Flask application receives a request, it can use the redirect() function \n",
    "     to send the user to a different URL or route, which can be useful for a variety of reasons."
   ]
  },
  {
   "cell_type": "markdown",
   "id": "cdc97ca1-15a9-4fbf-8269-289d1e3fb75c",
   "metadata": {},
   "source": [
    "Q.4> What are templates in Flask? Why is the render_template() function used?\n",
    "\n",
    "Ans> \n",
    "\n",
    "Templates in Flask are files that contain HTML code with placeholders for dynamic content that will be  \n",
    "filled in by the Flask application at runtime. Templates allow developers to separate the presentation \n",
    "logic from the business logic of the application, making it easier to manage and maintain the application\n",
    "over time.\n",
    "\n",
    "The render_template() function in Flask is used to render templates and return the result as a response to \n",
    "a client's request. The function takes the name of a template file as its argument and any additional data \n",
    "that needs to be passed to the template for rendering. The function then processes the template, filling in\n",
    "the placeholders with the dynamic data and returning the resulting HTML code as a response to the client's "
   ]
  },
  {
   "cell_type": "code",
   "execution_count": 4,
   "id": "9dd38bf3-f4a0-45cc-aa63-6d651813d28b",
   "metadata": {},
   "outputs": [
    {
     "name": "stdout",
     "output_type": "stream",
     "text": [
      "Collecting flask\n",
      "  Downloading Flask-2.3.1-py3-none-any.whl (96 kB)\n",
      "\u001b[2K     \u001b[90m━━━━━━━━━━━━━━━━━━━━━━━━━━━━━━━━━━━━━━━━\u001b[0m \u001b[32m97.0/97.0 kB\u001b[0m \u001b[31m12.2 MB/s\u001b[0m eta \u001b[36m0:00:00\u001b[0m\n",
      "\u001b[?25hCollecting itsdangerous>=2.1.2\n",
      "  Downloading itsdangerous-2.1.2-py3-none-any.whl (15 kB)\n",
      "Collecting blinker>=1.6.2\n",
      "  Downloading blinker-1.6.2-py3-none-any.whl (13 kB)\n",
      "Collecting Werkzeug>=2.3.0\n",
      "  Downloading Werkzeug-2.3.2-py3-none-any.whl (242 kB)\n",
      "\u001b[2K     \u001b[90m━━━━━━━━━━━━━━━━━━━━━━━━━━━━━━━━━━━━━━\u001b[0m \u001b[32m242.2/242.2 kB\u001b[0m \u001b[31m31.1 MB/s\u001b[0m eta \u001b[36m0:00:00\u001b[0m\n",
      "\u001b[?25hRequirement already satisfied: click>=8.1.3 in /opt/conda/lib/python3.10/site-packages (from flask) (8.1.3)\n",
      "Requirement already satisfied: Jinja2>=3.1.2 in /opt/conda/lib/python3.10/site-packages (from flask) (3.1.2)\n",
      "Requirement already satisfied: MarkupSafe>=2.0 in /opt/conda/lib/python3.10/site-packages (from Jinja2>=3.1.2->flask) (2.1.1)\n",
      "Installing collected packages: Werkzeug, itsdangerous, blinker, flask\n",
      "  Attempting uninstall: blinker\n",
      "    Found existing installation: blinker 1.5\n",
      "    Uninstalling blinker-1.5:\n",
      "      Successfully uninstalled blinker-1.5\n",
      "Successfully installed Werkzeug-2.3.2 blinker-1.6.2 flask-2.3.1 itsdangerous-2.1.2\n",
      "Note: you may need to restart the kernel to use updated packages.\n"
     ]
    }
   ],
   "source": [
    "pip install flask\n"
   ]
  },
  {
   "cell_type": "code",
   "execution_count": null,
   "id": "7fa45826-029f-4074-9eef-89cd9461c792",
   "metadata": {},
   "outputs": [],
   "source": [
    "Q.5> Create a simple API. Use Postman to test it. Attach the screenshot of the output in the Jupyter Notebook.\n",
    "Ans> \n",
    "from flask import Flask, jsonify, request\n",
    "\n",
    "app = Flask(__name__)\n",
    "\n",
    "# Define the company and employees data\n",
    "company = {'name': 'Acme Inc.', 'employees': [\n",
    "    {'name': 'Sarfraj', 'title': 'Data Scientist'},\n",
    "    {'name': 'Abhishek ', 'title': 'Web Developer'},\n",
    "    {'name': 'Faizan ', 'title': 'Sales Manager'}\n",
    "]}\n",
    "\n",
    "# Define a route to get the company name\n",
    "@app.route('/company/name', methods=['GET'])\n",
    "def get_company_name():\n",
    "    return jsonify({'name': company['name']})\n",
    "\n",
    "# Define a route to get the employees\n",
    "@app.route('/company/employees', methods=['GET'])\n",
    "def get_employees():\n",
    "    return jsonify({'employees': company['employees']})\n",
    "\n",
    "# Define a route to add an employee\n",
    "@app.route('/company/employees', methods=['POST'])\n",
    "def add_employee():\n",
    "    employee = request.get_json()\n",
    "    company['employees'].append(employee)\n",
    "    return jsonify({'employees': company['employees']})\n",
    "\n",
    "if __name__ == '__main__':\n",
    "    app.run(debug=True)"
   ]
  }
 ],
 "metadata": {
  "kernelspec": {
   "display_name": "Python 3 (ipykernel)",
   "language": "python",
   "name": "python3"
  },
  "language_info": {
   "codemirror_mode": {
    "name": "ipython",
    "version": 3
   },
   "file_extension": ".py",
   "mimetype": "text/x-python",
   "name": "python",
   "nbconvert_exporter": "python",
   "pygments_lexer": "ipython3",
   "version": "3.10.8"
  }
 },
 "nbformat": 4,
 "nbformat_minor": 5
}
