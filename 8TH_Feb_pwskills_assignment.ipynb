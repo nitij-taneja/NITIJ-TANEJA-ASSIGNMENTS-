{
 "cells": [
  {
   "cell_type": "code",
   "execution_count": 2,
   "id": "47aefde1-d7f9-411f-bdd0-4807e688080d",
   "metadata": {},
   "outputs": [
    {
     "name": "stdout",
     "output_type": "stream",
     "text": [
      "I can walk and run\n",
      "I can crawl\n",
      "I can bark\n"
     ]
    }
   ],
   "source": [
    "'''Q1: What is Abstraction in OOps? Explain with an example.\n",
    "\n",
    "Answer: Abstraction in python is defined as a process of handling complexity by hiding unnecessary information from the user. An abstract \n",
    "class can be considered as a blueprint for other classes. It allows you to create a set of methods that must be created within any child classes\n",
    "built from the abstract class. An abstract method has a declaration but does not have an implementation.'''\n",
    "\n",
    "# FOR EXAMPLE\n",
    "from abc import ABC\n",
    "class Animal(ABC):\n",
    "    def move(self):\n",
    "        pass\n",
    "class Human(Animal):\n",
    "    def move(self):\n",
    "        print(\"I can walk and run\")\n",
    "class Snake(Animal):\n",
    "    def move(self):\n",
    "        print(\"I can crawl\")\n",
    "class Dog(Animal):\n",
    "    def move(self):\n",
    "        print(\"I can bark\")\n",
    "A=Human()\n",
    "A.move()\n",
    "B=Snake()\n",
    "B.move()\n",
    "C=Dog()\n",
    "C.move()"
   ]
  },
  {
   "cell_type": "code",
   "execution_count": 3,
   "id": "52d6114a-0832-4003-8929-5cd69c215837",
   "metadata": {},
   "outputs": [
    {
     "data": {
      "text/plain": [
       "'Q2: Differentiate between Abstraction and Encapsulation. Explain with an example.\\n\\nAnswrer: Abstraction is the process or method of gaining the information. While encapsulation is the process or method to contain the information.\\nIn abstraction, problems are solved at the design or interface level. While in encapsulation, problems are solved at the implementation level.'"
      ]
     },
     "execution_count": 3,
     "metadata": {},
     "output_type": "execute_result"
    }
   ],
   "source": [
    "'''Q2: Differentiate between Abstraction and Encapsulation. Explain with an example.\n",
    "\n",
    "Answrer: Abstraction is the process or method of gaining the information. While encapsulation is the process or method to contain the information.\n",
    "In abstraction, problems are solved at the design or interface level. While in encapsulation, problems are solved at the implementation level.'''\n"
   ]
  },
  {
   "cell_type": "code",
   "execution_count": 4,
   "id": "06f5b05f-8def-410d-ba0f-b68e00601f00",
   "metadata": {},
   "outputs": [
    {
     "data": {
      "text/plain": [
       "'Q3: What is abc module in python? Why is it used?\\n\\nAnswer: The abc module in Python is the Abstract Base Class module. It is used to define abstract base classes, which provide a way to define\\ninterfaces in Python. An abstract base class is a class that cannot be initiated, but can be subclassed. The purpose of an abstract base class \\nis to specify the interface that its subclasses must implement, without specifying how that implementation should be done.\\n\\nThe abc module provides a way to create abstract base classes in Python by using the ABC class, as well as several decorators and methods to define\\nabstract methods and properties.'"
      ]
     },
     "execution_count": 4,
     "metadata": {},
     "output_type": "execute_result"
    }
   ],
   "source": [
    "'''Q3: What is abc module in python? Why is it used?\n",
    "\n",
    "Answer: The abc module in Python is the Abstract Base Class module. It is used to define abstract base classes, which provide a way to define\n",
    "interfaces in Python. An abstract base class is a class that cannot be instantiated, but can be subclassed. The purpose of an abstract base class \n",
    "is to specify the interface that its subclasses must implement, without specifying how that implementation should be done.\n",
    "\n",
    "The abc module provides a way to create abstract base classes in Python by using the ABC class, as well as several decorators and methods to define\n",
    "abstract methods and properties.'''"
   ]
  },
  {
   "cell_type": "code",
   "execution_count": 5,
   "id": "544f1c63-4c15-47bc-add1-4b3a6b4ff49b",
   "metadata": {},
   "outputs": [
    {
     "data": {
      "text/plain": [
       "'Q4: How can we achieve data abstraction?\\n\\nAnswer: Data abstraction is a programming concept that allows you to define the interface of an object without revealing the underlying implementation\\ndetails. In other words, it provides a way to separate the implementation details of an object from the way it is used by other objects.\\n\\nThere are several ways to achieve data abstraction in programming:\\n\\nAbstraction through classes: One of the most common ways to achieve data abstraction is through the use of classes. In object-oriented programming,\\nclasses provide a way to define objects with certain properties and methods, but hide the underlying implementation details from the rest of the code.\\nFor example, you can define a class with public methods that expose its behavior, but keep the implementation details private.\\n\\nInterfaces: An interface is a collection of abstract methods that must be implemented by any class that implements the interface. Interfaces are used\\nto define a common set of behaviors that can be implemented by different classes, without specifying the implementation details. \\nFor example, in Java, you can define an interface that specifies the methods that must be implemented by a class that implements the interface.\\n\\nModules: In some programming languages, like Python, you can use modules to define a set of related functions and variables, and hide the\\nimplementation details behind a well-defined interface. Modules provide a way to encapsulate the implementation details of a set of functions, and \\nexpose them to the rest of the code through a simple API.\\n\\nInformation hiding: Information hiding is a programming concept that involves hiding the implementation details of an object or function behind a \\nwell-defined interface. Information hiding is used to protect the internal state of an object from being modified by external code, and to provide \\na clear and well-defined way for other objects to interact with the object.'"
      ]
     },
     "execution_count": 5,
     "metadata": {},
     "output_type": "execute_result"
    }
   ],
   "source": [
    "'''Q4: How can we achieve data abstraction?\n",
    "\n",
    "Answer: Data abstraction is a programming concept that allows you to define the interface of an object without revealing the underlying implementation\n",
    "details. In other words, it provides a way to separate the implementation details of an object from the way it is used by other objects.\n",
    "\n",
    "There are several ways to achieve data abstraction in programming:\n",
    "\n",
    "Abstraction through classes: One of the most common ways to achieve data abstraction is through the use of classes. In object-oriented programming,\n",
    "classes provide a way to define objects with certain properties and methods, but hide the underlying implementation details from the rest of the code.\n",
    "For example, you can define a class with public methods that expose its behavior, but keep the implementation details private.\n",
    "\n",
    "Interfaces: An interface is a collection of abstract methods that must be implemented by any class that implements the interface. Interfaces are used\n",
    "to define a common set of behaviors that can be implemented by different classes, without specifying the implementation details. \n",
    "For example, in Java, you can define an interface that specifies the methods that must be implemented by a class that implements the interface.\n",
    "\n",
    "Modules: In some programming languages, like Python, you can use modules to define a set of related functions and variables, and hide the\n",
    "implementation details behind a well-defined interface. Modules provide a way to encapsulate the implementation details of a set of functions, and \n",
    "expose them to the rest of the code through a simple API.\n",
    "\n",
    "Information hiding: Information hiding is a programming concept that involves hiding the implementation details of an object or function behind a \n",
    "well-defined interface. Information hiding is used to protect the internal state of an object from being modified by external code, and to provide \n",
    "a clear and well-defined way for other objects to interact with the object.'''"
   ]
  },
  {
   "cell_type": "code",
   "execution_count": 7,
   "id": "7b2e9ac7-b1d7-40d3-969b-02d42a6daa96",
   "metadata": {},
   "outputs": [
    {
     "data": {
      "text/plain": [
       "'Q5: Can we create an instance of an abstract class? Explain your answer.\\n\\nAnswer: No, you cannot create an instance of an abstract class. An abstract class is a class that cannot be instantiated on its own, but is intended\\nto be subclassed and have its abstract methods implemented by the subclasses. The purpose of an abstract class is to provide a common interface for a\\nset of related classes, but not to be used as a standalone object.'"
      ]
     },
     "execution_count": 7,
     "metadata": {},
     "output_type": "execute_result"
    }
   ],
   "source": [
    "'''Q5: Can we create an instance of an abstract class? Explain your answer.\n",
    "\n",
    "Answer: No, you cannot create an instance of an abstract class. An abstract class is a class that cannot be instantiated on its own, but is intended\n",
    "to be subclassed and have its abstract methods implemented by the subclasses. The purpose of an abstract class is to provide a common interface for a\n",
    "set of related classes, but not to be used as a standalone object.'''"
   ]
  },
  {
   "cell_type": "code",
   "execution_count": null,
   "id": "6a46c06a-e1f5-446a-acf8-745deeb4fc4a",
   "metadata": {},
   "outputs": [],
   "source": []
  }
 ],
 "metadata": {
  "kernelspec": {
   "display_name": "Python 3 (ipykernel)",
   "language": "python",
   "name": "python3"
  },
  "language_info": {
   "codemirror_mode": {
    "name": "ipython",
    "version": 3
   },
   "file_extension": ".py",
   "mimetype": "text/x-python",
   "name": "python",
   "nbconvert_exporter": "python",
   "pygments_lexer": "ipython3",
   "version": "3.10.8"
  }
 },
 "nbformat": 4,
 "nbformat_minor": 5
}
