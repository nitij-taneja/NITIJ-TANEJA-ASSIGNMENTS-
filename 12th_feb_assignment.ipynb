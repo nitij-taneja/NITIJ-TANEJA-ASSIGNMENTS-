{
 "cells": [
  {
   "cell_type": "code",
   "execution_count": 1,
   "id": "73872ebf-a334-4d13-9f9e-0c92600e9926",
   "metadata": {},
   "outputs": [
    {
     "data": {
      "text/plain": [
       "'Q1: What is an Exception in python? Write the difference between Exceptions and Syntax errors.\\n\\nAnswer: An exception in Python is an error that occurs during the execution of a program. It may be due to various reasons such as invalid\\ninput, division by zero, out of memory, or trying to access an undefined variable. When an exception occurs, the normal flow of the program\\nis disrupted, and the program terminates.\\n\\nThe key difference between exceptions and syntax errors is that exceptions occur during the execution of a program, while syntax errors \\noccur before the program is executed. Additionally, exceptions can be handled and resolved programmatically, while syntax errors must be \\nfixed manually by the programmer'"
      ]
     },
     "execution_count": 1,
     "metadata": {},
     "output_type": "execute_result"
    }
   ],
   "source": [
    "'''Q1: What is an Exception in python? Write the difference between Exceptions and Syntax errors.\n",
    "\n",
    "Answer: An exception in Python is an error that occurs during the execution of a program. It may be due to various reasons such as invalid\n",
    "input, division by zero, out of memory, or trying to access an undefined variable. When an exception occurs, the normal flow of the program\n",
    "is disrupted, and the program terminates.\n",
    "\n",
    "The key difference between exceptions and syntax errors is that exceptions occur during the execution of a program, while syntax errors \n",
    "occur before the program is executed. Additionally, exceptions can be handled and resolved programmatically, while syntax errors must be \n",
    "fixed manually by the programmer'''\n"
   ]
  },
  {
   "cell_type": "code",
   "execution_count": 2,
   "id": "b38b6533-db05-4194-8bc9-b4954f649bc8",
   "metadata": {},
   "outputs": [
    {
     "name": "stdout",
     "output_type": "stream",
     "text": [
      "2.0\n"
     ]
    },
    {
     "ename": "ZeroDivisionError",
     "evalue": "division by zero",
     "output_type": "error",
     "traceback": [
      "\u001b[0;31m---------------------------------------------------------------------------\u001b[0m",
      "\u001b[0;31mZeroDivisionError\u001b[0m                         Traceback (most recent call last)",
      "Cell \u001b[0;32mIn[2], line 11\u001b[0m\n\u001b[1;32m      8\u001b[0m     \u001b[38;5;28;01mreturn\u001b[39;00m result\n\u001b[1;32m     10\u001b[0m \u001b[38;5;28mprint\u001b[39m(divide(\u001b[38;5;241m10\u001b[39m, \u001b[38;5;241m5\u001b[39m))\n\u001b[0;32m---> 11\u001b[0m \u001b[38;5;28mprint\u001b[39m(\u001b[43mdivide\u001b[49m\u001b[43m(\u001b[49m\u001b[38;5;241;43m10\u001b[39;49m\u001b[43m,\u001b[49m\u001b[43m \u001b[49m\u001b[38;5;241;43m0\u001b[39;49m\u001b[43m)\u001b[49m)\n",
      "Cell \u001b[0;32mIn[2], line 7\u001b[0m, in \u001b[0;36mdivide\u001b[0;34m(x, y)\u001b[0m\n\u001b[1;32m      6\u001b[0m \u001b[38;5;28;01mdef\u001b[39;00m \u001b[38;5;21mdivide\u001b[39m(x, y):\n\u001b[0;32m----> 7\u001b[0m     result \u001b[38;5;241m=\u001b[39m \u001b[43mx\u001b[49m\u001b[43m \u001b[49m\u001b[38;5;241;43m/\u001b[39;49m\u001b[43m \u001b[49m\u001b[43my\u001b[49m\n\u001b[1;32m      8\u001b[0m     \u001b[38;5;28;01mreturn\u001b[39;00m result\n",
      "\u001b[0;31mZeroDivisionError\u001b[0m: division by zero"
     ]
    }
   ],
   "source": [
    "'''Q2. What happens when an exception is not handled? Explain with an example.\n",
    "\n",
    "Answer: When an exception is not handled, the program terminates abruptly and generates a traceback, which is a detailed report of the error\n",
    "that occurred. The traceback provides information about the line of code where the error occurred, the type of error, and a description of\n",
    "the error.'''\n",
    "def divide(x, y):\n",
    "    result = x / y\n",
    "    return result\n",
    "\n",
    "print(divide(10, 5))\n",
    "print(divide(10, 0))"
   ]
  },
  {
   "cell_type": "code",
   "execution_count": 3,
   "id": "4a6684f5-7302-4f22-9371-5e23d430e78b",
   "metadata": {},
   "outputs": [
    {
     "name": "stdout",
     "output_type": "stream",
     "text": [
      "2.0\n",
      "Cannot divide by zero\n",
      "None\n"
     ]
    }
   ],
   "source": [
    "'''Q3. Which Python statements are used to catch and handle exceptions? Explain with an example\n",
    "\n",
    "Answer: In Python, exceptions can be caught and handled using the try and except statements. The try block contains the code that might \n",
    "raise an exception, and the except block contains the code that will handle the exception if it occurs.\n",
    "\n",
    "Here is an example of how to use the try and except statements to handle a ZeroDivisionError exception:'''\n",
    "\n",
    "def divide(x, y):\n",
    "    try:\n",
    "        result = x / y\n",
    "    except ZeroDivisionError:\n",
    "        print(\"Cannot divide by zero\")\n",
    "    else:\n",
    "        return result\n",
    "\n",
    "print(divide(10, 5)) # Output: 2.0\n",
    "print(divide(10, 0)) # Output: Cannot divide by zero"
   ]
  },
  {
   "cell_type": "code",
   "execution_count": 6,
   "id": "38db9b16-13f7-4b5d-b6ca-dc1a325f8a44",
   "metadata": {},
   "outputs": [
    {
     "name": "stdout",
     "output_type": "stream",
     "text": [
      "2.0\n",
      "5.0\n",
      "\n",
      "Executing finally block\n",
      "2.0\n",
      "Cannot divide by zero\n",
      "Executing finally block\n",
      "None\n",
      "\n",
      "2.0\n",
      "Cannot divide by zero\n"
     ]
    }
   ],
   "source": [
    "'''Q4. Explain with an example:\n",
    "a)try and else\n",
    "b)finally\n",
    "c)raise\n",
    "\n",
    "try and else statements can be used in combination to handle exceptions in Python. The else block is executed if no exceptions are raised in\n",
    "the try block.\n",
    "example'''\n",
    "\n",
    "def divide(x, y):\n",
    "    try:\n",
    "        result = x / y\n",
    "    except ZeroDivisionError:\n",
    "        print(\"Cannot divide by zero\")\n",
    "    else:\n",
    "        return result\n",
    "\n",
    "print(divide(10, 5)) # Output: 2.0\n",
    "print(divide(10, 2)) # Output: 5.0\n",
    "\n",
    "print()\n",
    "\n",
    "#The finally statement in Python is used to specify a block of code that should be executed regardless of whether an exception occurs or not.\n",
    "#The code in the finally block is guaranteed to be executed, even if an exception is raised and not caught in the try block.\n",
    "#example\n",
    "def divide(x, y):\n",
    "    try:\n",
    "        result = x / y\n",
    "    except ZeroDivisionError:\n",
    "        print(\"Cannot divide by zero\")\n",
    "        result = None\n",
    "    finally:\n",
    "        print(\"Executing finally block\")\n",
    "    return result\n",
    "\n",
    "print(divide(10, 5)) # Output: Executing finally block \\n 2.0\n",
    "print(divide(10, 0)) # Output: Cannot divide by zero \\n Executing finally block \\n None\n",
    "\n",
    "print()\n",
    "#The raise statement in Python is used to raise an exception explicitly. It is used to indicate that an error has occurred and to stop the\n",
    "#normal execution of the program.\n",
    "#example\n",
    "\n",
    "def divide(x, y):\n",
    "    if y == 0:\n",
    "        raise ZeroDivisionError(\"Cannot divide by zero\")\n",
    "    return x / y\n",
    "\n",
    "try:\n",
    "    print(divide(10, 5)) # Output: 2.0\n",
    "    print(divide(10, 0))\n",
    "except ZeroDivisionError as e:\n",
    "    print(e) # Output: Cannot divide by zero\n",
    "     "
   ]
  },
  {
   "cell_type": "code",
   "execution_count": 7,
   "id": "9142ed92-77bf-4b48-b5bb-732336579f92",
   "metadata": {},
   "outputs": [
    {
     "name": "stdout",
     "output_type": "stream",
     "text": [
      "2.0\n",
      "Input values must be positive\n",
      "None\n",
      "Cannot divide by zero\n",
      "None\n"
     ]
    }
   ],
   "source": [
    "'''Q5. What are Custom Exceptions in python? Why do we need Custom Ex,eptions? Explain with an example.\n",
    "\n",
    "Answer: Custom exceptions are user-defined exceptions in Python. They allow you to define specific types of exceptions for your application,\n",
    "so you can handle errors and exceptions in a more organized and meaningful way.\n",
    "\n",
    "For example, consider a scenario where you are writing a library that performs some mathematical calculations. In this library, you may\n",
    "encounter several different types of errors, such as invalid input, overflow, and divide-by-zero errors. You could handle these errors by \n",
    "raising built-in exceptions, such as ValueError or ZeroDivisionError, but it may not provide enough context or information about the error\n",
    "that has occurred.\n",
    "\n",
    "'''\n",
    "class InvalidInputError(Exception):\n",
    "    pass\n",
    "\n",
    "class OverflowError(Exception):\n",
    "    pass\n",
    "\n",
    "class DivideByZeroError(Exception):\n",
    "    pass\n",
    "\n",
    "def divide(x, y):\n",
    "    if y == 0:\n",
    "        raise DivideByZeroError(\"Cannot divide by zero\")\n",
    "    return x / y\n",
    "\n",
    "def calculate(x, y):\n",
    "    try:\n",
    "        if x < 0 or y < 0:\n",
    "            raise InvalidInputError(\"Input values must be positive\")\n",
    "        result = divide(x, y)\n",
    "    except DivideByZeroError as e:\n",
    "        print(e)\n",
    "    except InvalidInputError as e:\n",
    "        print(e)\n",
    "    else:\n",
    "        return result\n",
    "\n",
    "print(calculate(10, 5)) # Output: 2.0\n",
    "print(calculate(-10, 5)) # Output: Input values must be positive\n",
    "print(calculate(10, 0)) # Output: Cannot divide by zero"
   ]
  },
  {
   "cell_type": "code",
   "execution_count": 8,
   "id": "9472cc83-6cac-4e3d-a1cf-f568be71f2c0",
   "metadata": {},
   "outputs": [
    {
     "name": "stdout",
     "output_type": "stream",
     "text": [
      "2.0\n",
      "Cannot divide by zero\n"
     ]
    }
   ],
   "source": [
    "'''Q6. Create a custom exception class. Use this class to handle an exception\n",
    "\n",
    "Answer:'''\n",
    "class CustomException(Exception):\n",
    "    pass\n",
    "\n",
    "def divide(x, y):\n",
    "    if y == 0:\n",
    "        raise CustomException(\"Cannot divide by zero\")\n",
    "    return x / y\n",
    "\n",
    "try:\n",
    "    print(divide(10, 5)) # Output: 2.0\n",
    "    print(divide(10, 0))\n",
    "except CustomException as e:\n",
    "    print(e) # Output: Cannot divide by zero"
   ]
  },
  {
   "cell_type": "code",
   "execution_count": null,
   "id": "621ff98d-518f-4c3d-a1ec-68f51821d96b",
   "metadata": {},
   "outputs": [],
   "source": []
  }
 ],
 "metadata": {
  "kernelspec": {
   "display_name": "Python 3 (ipykernel)",
   "language": "python",
   "name": "python3"
  },
  "language_info": {
   "codemirror_mode": {
    "name": "ipython",
    "version": 3
   },
   "file_extension": ".py",
   "mimetype": "text/x-python",
   "name": "python",
   "nbconvert_exporter": "python",
   "pygments_lexer": "ipython3",
   "version": "3.10.8"
  }
 },
 "nbformat": 4,
 "nbformat_minor": 5
}
