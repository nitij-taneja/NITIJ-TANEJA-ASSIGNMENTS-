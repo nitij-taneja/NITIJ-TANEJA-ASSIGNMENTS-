'''Q1: We should use a for loop when we know the loop should execute n times whereas we should use a while loop for reading a file into a variable, use
a while loop when asking for user input. Use a while loop when the increment value is nonstandard.

Example
use of for loop while iterating over a list
a=[1,2,3,4]
for i in a:
    print(i)
    
use of while loop while taking input from user
age=int(input())
while age>18:
    print('You can Vote')'''







{
 "cells": [
  {
   "cell_type": "raw",
   "id": "eba9c941-c5dd-4c42-a2d5-6284e01d6d05",
   "metadata": {},
   "source": [
    "'''Q1: We should use a for loop when we know the loop should execute n times whereas we should use a while loop for reading a file into a variable, use\n",
    "a while loop when asking for user input. Use a while loop when the increment value is nonstandard.\n",
    "\n",
    "Example\n",
    "use of for loop while iterating over a list\n",
    "a=[1,2,3,4]\n",
    "for i in a:\n",
    "    print(i)\n",
    "    \n",
    "use of while loop while taking input from user\n",
    "age=int(input())\n",
    "while age>18:\n",
    "    print('You can Vote')'''"
   ]
  },
  {
   "cell_type": "code",
   "execution_count": 1,
   "id": "b7fd1a96-ad08-40e6-aabf-b0322b10da12",
   "metadata": {},
   "outputs": [
    {
     "name": "stdout",
     "output_type": "stream",
     "text": [
      "sum is 55\n",
      "product is 3628800\n",
      "sum is 55\n",
      "product is 3628800\n"
     ]
    }
   ],
   "source": [
    "#Q2: USING FOR LOOP FOR PRINTING SUM AND PRODUCT OF FIRST 10 NATURAL NUMBERS\n",
    "sum1=0\n",
    "product1=1\n",
    "for i in range(1,11):\n",
    "    sum1+=i\n",
    "    product1*=i\n",
    "print('sum is', sum1)\n",
    "print('product is', product1)\n",
    "\n",
    "#USING WHILE LOOP FOR PRINTING SUM AND PRODUCT OF FIRST 10 NATURAL NUMBERS\n",
    "n=10\n",
    "sum2=0\n",
    "i=1\n",
    "while i<=n:\n",
    "    sum2=sum2+i\n",
    "    i=i+1\n",
    "print('sum is', sum2)\n",
    "k=10\n",
    "j=1\n",
    "product2=1\n",
    "while j<=k:\n",
    "    product2=product2*j\n",
    "    j=j+1\n",
    "print('product is', product2) \n",
    "    "
   ]
  },
  {
   "cell_type": "code",
   "execution_count": 2,
   "id": "9c0c6e5c-f11e-4e77-8c52-d982e6dfeb93",
   "metadata": {
    "tags": []
   },
   "outputs": [
    {
     "name": "stdin",
     "output_type": "stream",
     "text": [
      "Enter your electricity umits consumed: 310\n"
     ]
    },
    {
     "name": "stdout",
     "output_type": "stream",
     "text": [
      "Your electricity bill is: 2250\n"
     ]
    }
   ],
   "source": [
    "#Q3\n",
    "a=int(input(\"Enter your electricity umits consumed:\"))\n",
    "bill=0\n",
    "if a<101:\n",
    "    bill=a*4.5\n",
    "elif a in range(101,201):\n",
    "    bill=450+((a-100)*6)\n",
    "elif a in range(201,301):\n",
    "    bill=450+600+((a-200)*10)\n",
    "else:\n",
    "    bill=450+600+1000+((a-300)*20)\n",
    "print('Your electricity bill is:', bill)    "
   ]
  },
  {
   "cell_type": "code",
   "execution_count": 6,
   "id": "9568ccf0-7fff-4b0b-8bd9-84c17e0ecb4b",
   "metadata": {},
   "outputs": [
    {
     "name": "stdout",
     "output_type": "stream",
     "text": [
      "[1, 2, 3, 4, 5, 6, 7, 8, 9, 10, 11, 12, 13, 14, 15, 16, 17, 18, 19, 20, 21, 22, 23, 24, 25, 26, 27, 28, 29, 30, 31, 32, 33, 34, 35, 36, 37, 38, 39, 40, 41, 42, 43, 44, 45, 46, 47, 48, 49, 50, 51, 52, 53, 54, 55, 56, 57, 58, 59, 60, 61, 62, 63, 64, 65, 66, 67, 68, 69, 70, 71, 72, 73, 74, 75, 76, 77, 78, 79, 80, 81, 82, 83, 84, 85, 86, 87, 88, 89, 90, 91, 92, 93, 94, 95, 96, 97, 98, 99, 100]\n",
      "[8, 64, 125, 216, 512, 1000, 1728, 2744, 3375, 4096, 5832, 8000, 10648, 13824, 15625, 17576, 21952, 27000, 32768, 39304, 42875, 46656, 54872, 64000, 74088, 85184, 91125, 97336, 110592, 125000, 140608, 157464, 166375, 175616, 195112, 216000, 238328, 262144, 274625, 287496, 314432, 343000, 373248, 405224, 421875, 438976, 474552, 512000, 551368, 592704, 614125, 636056, 681472, 729000, 778688, 830584, 857375, 884736, 941192, 1000000]\n",
      "[8, 64, 125, 216, 512, 1000, 1728, 2744, 3375, 4096, 5832, 8000, 10648, 13824, 15625, 17576, 21952, 27000, 32768, 39304, 42875, 46656, 54872, 64000, 74088, 85184, 91125, 97336, 110592, 125000, 140608, 157464, 166375, 175616, 195112, 216000, 238328, 262144, 274625, 287496, 314432, 343000, 373248, 405224, 421875, 438976, 474552, 512000, 551368, 592704, 614125, 636056, 681472, 729000, 778688, 830584, 857375, 884736, 941192, 1000000]\n"
     ]
    }
   ],
   "source": [
    "#Q4\n",
    "a=[]\n",
    "b=[]\n",
    "c=[]\n",
    "for i in range(1,101):\n",
    "    a.append(i)\n",
    "print(a)\n",
    "#USING FOR LOOP\n",
    "for i in a:\n",
    "    d=i**3\n",
    "    if d%4==0 or d%5==0:\n",
    "        b.append(d)\n",
    "print(b)   \n",
    "#using while loop\n",
    "j=1\n",
    "while j<=100:\n",
    "    e=j**3\n",
    "    if e%4==0 or e%5==0:\n",
    "        c.append(e)\n",
    "    j=j+1\n",
    "    \n",
    "print(c)\n"
   ]
  },
  {
   "cell_type": "code",
   "execution_count": 7,
   "id": "b90c437e-e6fd-4941-abe0-85e9d7bc8968",
   "metadata": {},
   "outputs": [
    {
     "name": "stdout",
     "output_type": "stream",
     "text": [
      "{'a': 4, 'i': 3, 'e': 3, 'o': 2, 'u': 0}\n"
     ]
    }
   ],
   "source": [
    "#Q5\n",
    "string='I want to become a Data Scientist'\n",
    "vowels='aieou'\n",
    "string=string.casefold()\n",
    "count={}.fromkeys(vowels,0)\n",
    "for i in string:\n",
    "    if i in count:\n",
    "        count[i]+=1\n",
    "print(count)        "
   ]
  },
  {
   "cell_type": "code",
   "execution_count": null,
   "id": "5af9074e-a987-4f42-aa8b-720ffc12d9eb",
   "metadata": {},
   "outputs": [],
   "source": []
  }
 ],
 "metadata": {
  "kernelspec": {
   "display_name": "Python 3 (ipykernel)",
   "language": "python",
   "name": "python3"
  },
  "language_info": {
   "codemirror_mode": {
    "name": "ipython",
    "version": 3
   },
   "file_extension": ".py",
   "mimetype": "text/x-python",
   "name": "python",
   "nbconvert_exporter": "python",
   "pygments_lexer": "ipython3",
   "version": "3.10.8"
  }
 },
 "nbformat": 4,
 "nbformat_minor": 5
}
