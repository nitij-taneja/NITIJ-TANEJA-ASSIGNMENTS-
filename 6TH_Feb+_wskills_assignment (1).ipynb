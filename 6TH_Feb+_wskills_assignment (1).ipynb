{
 "cells": [
  {
   "cell_type": "code",
   "execution_count": null,
   "id": "214786fd-5612-4a64-af4d-713f37f368b1",
   "metadata": {},
   "outputs": [],
   "source": [
    "'''Q1. Create a function which will take a list as an argument and return the product of all the numbers\n",
    "after creating a flat list.\n",
    "Use the below-given list as an argument for your function.\n",
    "list1 = [1,2,3,4, [44,55,66, True], False, (34,56,78,89,34), {1,2,3,3,2,1}, {1:34, \"key2\": [55, 67, 78, 89], 4: (45,\n",
    "22, 61, 34)}, [56, 'data science'], 'Machine Learning']\n",
    "Note: you must extract numeric keys and values of the dictionary also.'''\n",
    "from functools import reduce\n",
    "def product(lst):\n",
    "    nums = []\n",
    "    for item in lst:\n",
    "        if isinstance(item, (int, float, complex)):\n",
    "            nums.append(item)\n",
    "        elif isinstance(item, (list, tuple, set)):\n",
    "            for nested_item in item:\n",
    "                if isinstance(nested_item, (int, float, complex)):\n",
    "                    nums.append(nested_item)\n",
    "        elif isinstance(item, dict):\n",
    "            for key, value in item.items():\n",
    "                if isinstance(key, (int, float, complex)):\n",
    "                    nums.append(key)\n",
    "                if isinstance(value, (int, float, complex)):\n",
    "                    nums.append(value)\n",
    "    return reduce(lambda x, y: x * y, nums)\n",
    "list1 = [1,2,3,4, [44,55,66, True], False, (34,56,78,89,34), {1,2,3,3,2,1}, {1:34, \"key2\": [55, 67,\n",
    "78, 89], 4: (45, 22, 61, 34)}, [56, 'data science'], 'Machine Learning']\n",
    "print(product(list1))\n",
    "\n",
    "        "
   ]
  },
  {
   "cell_type": "code",
   "execution_count": 6,
   "id": "365ffdc6-6718-4a1a-94b1-28c549e42faf",
   "metadata": {},
   "outputs": [
    {
     "name": "stdin",
     "output_type": "stream",
     "text": [
      "Enter the message: I want to become a Data Scientist\n"
     ]
    },
    {
     "name": "stdout",
     "output_type": "stream",
     "text": [
      "r$dzmg$gl$yvxlnv$z$wzgz$hxrvmgrhg\n"
     ]
    }
   ],
   "source": [
    "'''Q2. Write a python program for encrypting a message sent to you by your friend. The logic of encryption\n",
    "should be such that, for a the output should be z. For b, the output should be y. For c, the output should\n",
    "be x respectively. Also, the whitespace should be replaced with a dollar sign. Keep the punctuation\n",
    "marks unchanged.\n",
    "Input Sentence: I want to become a Data Scientist.\n",
    "Encrypt the above input sentence using the program you just created.\n",
    "Note: Convert the given input sentence into lowercase before encrypting. The final output should be\n",
    "lowercase.'''\n",
    "\n",
    "#Answer:\n",
    "def encryption():\n",
    "    import string\n",
    "    a=input(\"Enter the message:\")\n",
    "    b=list(string.ascii_lowercase)\n",
    "    c=a.lower()\n",
    "    string=''\n",
    "    for i in c:\n",
    "        if i in b:\n",
    "            d=b.index(i)\n",
    "            e=b[-(d+1)]\n",
    "            string+=e\n",
    "        else:\n",
    "            i='$'\n",
    "            string+=i\n",
    "    print(string)\n",
    "encryption()    "
   ]
  },
  {
   "cell_type": "code",
   "execution_count": null,
   "id": "19634309-c9c1-4595-a504-01f4912d59c6",
   "metadata": {},
   "outputs": [],
   "source": []
  }
 ],
 "metadata": {
  "kernelspec": {
   "display_name": "Python 3 (ipykernel)",
   "language": "python",
   "name": "python3"
  },
  "language_info": {
   "codemirror_mode": {
    "name": "ipython",
    "version": 3
   },
   "file_extension": ".py",
   "mimetype": "text/x-python",
   "name": "python",
   "nbconvert_exporter": "python",
   "pygments_lexer": "ipython3",
   "version": "3.10.8"
  }
 },
 "nbformat": 4,
 "nbformat_minor": 5
}
