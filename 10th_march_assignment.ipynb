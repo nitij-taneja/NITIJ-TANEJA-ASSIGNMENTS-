{
 "cells": [
  {
   "cell_type": "markdown",
   "id": "442d9501-af90-454f-8fec-8a9bcb77ff89",
   "metadata": {},
   "source": [
    "Question No. 1:\n",
    "What is Estimation Statistics? Explain point estimate and interval estimate.\n",
    "\n",
    "Answer:\n",
    "Estimation statistics is a branch of statistics that involves using data from a sample to make inferences about the population. The goal of estimation is to provide information about population parameters, such as the mean or proportion, based on a sample of data.\n",
    "\n",
    "There are two main types of estimates: point estimates and interval estimates.\n",
    "\n",
    "Point Estimate: A point estimate is a single value that is used to estimate a population parameter. It is obtained by using a sample statistic, such as the sample mean or sample proportion, to estimate the corresponding population parameter.\n",
    "\n",
    "Interval Estimate: An interval estimate, also called a confidence interval, is a range of values that is likely to contain the true population parameter with a certain level of confidence. It is obtained by using a sample statistic, such as the sample mean or sample proportion, to calculate an interval of values that is likely to contain the true population parameter."
   ]
  },
  {
   "cell_type": "markdown",
   "id": "da78ed7a-9c04-44da-a829-2a190a237ffa",
   "metadata": {},
   "source": [
    "Question No. 2:\n",
    "Write a Python function to estimate the population mean using a sample mean and standard deviation.\n",
    "\n",
    "Answer:"
   ]
  },
  {
   "cell_type": "code",
   "execution_count": 1,
   "id": "16527523-c2be-4d97-a696-711be6267100",
   "metadata": {},
   "outputs": [],
   "source": [
    "import math\n",
    "\n",
    "def population_mean(sample_mean, sample_std, sample_size):\n",
    "    std_error = sample_std / math.sqrt(sample_size)\n",
    "    z_value = 1.96 # assume a 95% confidence level and use the corresponding z-value\n",
    "    margin_of_error = z_value * std_error \n",
    "    lower_bound = sample_mean - margin_of_error \n",
    "    upper_bound = sample_mean + margin_of_error \n",
    "    return ((lower_bound + upper_bound) / 2)"
   ]
  },
  {
   "cell_type": "code",
   "execution_count": 2,
   "id": "18f1fa4e-9b7a-4b9b-b8e5-3526e88006e4",
   "metadata": {},
   "outputs": [
    {
     "name": "stdout",
     "output_type": "stream",
     "text": [
      "Population mean: 2.0\n"
     ]
    }
   ],
   "source": [
    "result = population_mean(2,5,20000)\n",
    "\n",
    "print(f\"Population mean: {result}\")\n"
   ]
  },
  {
   "cell_type": "markdown",
   "id": "036612a8-2162-4be9-9c02-2149f45afc83",
   "metadata": {},
   "source": [
    "Question No. 3:\n",
    "What is Hypothesis testing? Why is it used? State the importance of Hypothesis testing.\n",
    "\n",
    "Answer:\n",
    "Hypothesis testing is a statistical method used to make decisions or draw conclusions about a population based on a sample of data. It involves comparing a hypothesis or claim about a population parameter (such as a mean or proportion) with the data from a sample, in order to determine if the hypothesis is likely to be true.\n",
    "\n",
    "Hypothesis testing is used to test the validity of a theory or claim.\n",
    "\n",
    "For example, in medical research, hypothesis testing can be used to determine if a new drug is effective in treating a disease by comparing its effects to a placebo. In business, hypothesis testing can be used to evaluate whether a new marketing strategy is effective in increasing sales.\n",
    "\n",
    "The importance of hypothesis testing lies in its ability to provide evidence for or against a theory or claim, and to help researchers make informed decisions based on data. It allows researchers to determine if an observed difference between groups or variables is statistically significant or simply due to chance, and to quantify the level of uncertainty in their findings. This can help researchers to draw conclusions that are based on evidence and minimize the risk of drawing incorrect or unsupported conclusions."
   ]
  },
  {
   "cell_type": "markdown",
   "id": "8ffd62af-dc8d-4bdb-b55f-69be1d997952",
   "metadata": {},
   "source": [
    "Question No. 4:\n",
    "Create a hypothesis that states whether the average weight of male college students is greater than the average weight of female college students.\n",
    "\n",
    "Answer:\n",
    "The null hypothesis would be:\n",
    "\n",
    "H0: The average weight of male college students is not greater than the average weight of female college students.\n",
    "\n",
    "The alternative hypothesis would be:\n",
    "\n",
    "H1: The average weight of male college students is greater than the average weight of female college students."
   ]
  },
  {
   "cell_type": "markdown",
   "id": "38ee47d2-4c16-4284-a7b5-afc35a12e280",
   "metadata": {},
   "source": [
    "Question No. 5:\n",
    "Write a Python script to conduct a hypothesis test on the difference between two population means, given a sample from each population.\n",
    "\n",
    "Answer:"
   ]
  },
  {
   "cell_type": "code",
   "execution_count": 4,
   "id": "4d774550-ec2e-4a69-8275-f0be7741177d",
   "metadata": {},
   "outputs": [
    {
     "name": "stdout",
     "output_type": "stream",
     "text": [
      "p-value : 0.22461584380277022\n",
      "t-statistic : 0.7955870797707367\n",
      "t-crit : 2.3060041350333704\n",
      "Fail to reject the null hypothesis: The population means of the two samples are EQUAL\n",
      "Fail to reject the null hypothesis: The population means of the two samples are EQUAL\n"
     ]
    }
   ],
   "source": [
    "import numpy as np\n",
    "from scipy.stats import t\n",
    "\n",
    "# Sample data\n",
    "sample1 = np.array([2.5, 3.2, 2.9, 3.8, 3.5])\n",
    "sample2 = np.array([2.1, 3.0, 3.5, 2.8, 3.2])\n",
    "\n",
    "# Sample statistics\n",
    "n1 = len(sample1)\n",
    "n2 = len(sample2)\n",
    "mean1 = np.mean(sample1)\n",
    "mean2 = np.mean(sample2)\n",
    "std1 = np.std(sample1, ddof=1)\n",
    "std2 = np.std(sample2, ddof=1)\n",
    "\n",
    "# Null and alternative hypotheses\n",
    "null_hypothesis = \"The population means of the two samples are EQUAL\"\n",
    "alt_hypothesis = \"The population mean of sample 1 and sample 2 are NOT Equal\"\n",
    "\n",
    "# Calculate the t-statistic and degrees of freedom\n",
    "sp = np.sqrt(((n1-1)*(std1**2) + (n2-1)*(std2**2)) / (n1+n2-2))\n",
    "t_stat = (mean1 - mean2) / (sp * np.sqrt(1/n1 + 1/n2))\n",
    "df = n1 + n2 - 2\n",
    "\n",
    "# Calculate the p-value and critical value\n",
    "p_value = 1 - t.cdf(t_stat, df=df)\n",
    "alpha = 0.05\n",
    "t_crit = t.ppf(1-alpha/2, df=df)\n",
    "\n",
    "# Print p_value\n",
    "print(f'p-value : {p_value}')\n",
    "\n",
    "# Print t_stat\n",
    "print(f't-statistic : {t_stat}')\n",
    "\n",
    "#print t_crit\n",
    "print(f't-crit : {t_crit}')\n",
    "\n",
    "# Compare the p-value and critical value to the significance level\n",
    "if p_value < alpha:\n",
    "    print(\"Reject the null hypothesis: \" + null_hypothesis)\n",
    "    print(\"Accept the alternative hypothesis: \" + alt_hypothesis)\n",
    "else:\n",
    "    print(\"Fail to reject the null hypothesis: \" + null_hypothesis)\n",
    "    \n",
    "# Compare the t-statistic to the critical value\n",
    "if abs(t_stat) > t_crit:\n",
    "    print(\"Reject the null hypothesis: \" + null_hypothesis)\n",
    "    print(\"Accept the alternative hypothesis: \" + alt_hypothesis)\n",
    "else:\n",
    "    print(\"Fail to reject the null hypothesis: \" + null_hypothesis)"
   ]
  },
  {
   "cell_type": "markdown",
   "id": "0e6c5b8b-c048-4bea-b38d-8c375c60e453",
   "metadata": {},
   "source": [
    "Question No. 6:\n",
    "What is a null and alternative hypothesis? Give some examples.\n",
    "\n",
    "Answer:\n",
    "The null hypothesis (H0) states that there is no significant difference between two populations or variables. It is often the default or conventional position and is tested against the alternative hypothesis. In other words, it is the claim that researchers aim to reject or fail to reject based on the evidence from the data.\n",
    "\n",
    "The alternative hypothesis (H1) is the complement of the null hypothesis and states that there is a significant difference between two populations or variables. It represents the claim that researchers seek to support or prove based on the evidence from the data.\n",
    "\n",
    "Examples:\n",
    "\n",
    "Null hypothesis: The average IQ scores of two groups of students are equal.\n",
    "Alternative hypothesis: The average IQ score of one group of students is significantly different from the other group.\n",
    "\n",
    "Null hypothesis: The new drug has no effect on curing a disease.\n",
    "Alternative hypothesis: The new drug is significantly more effective in curing the disease than the current drug."
   ]
  },
  {
   "cell_type": "markdown",
   "id": "ee773df4-07c8-4c30-b2c6-cf130da95834",
   "metadata": {},
   "source": [
    "Question No. 7:\n",
    "Write down the steps involved in hypothesis testing.\n",
    "\n",
    "Answer:\n",
    "The general steps involved in hypothesis testing are:\n",
    "\n",
    "State the null and alternative hypotheses: Identify the research question and define the null and alternative hypotheses that represent the possible outcomes.\n",
    "Determine the test statistic: Choose an appropriate statistical test (e.g., t-test, ANOVA, chi-square) based on the research question and data type, and calculate the test statistic using the sample data.\n",
    "Set the significance level: Determine the level of significance (alpha) to use for the test. This is the probability of rejecting the null hypothesis when it is true and is typically set at 0.05.\n",
    "Calculate the p-value: Calculate the probability of observing the test statistic or a more extreme value under the null hypothesis.\n",
    "Make a decision: Compare the p-value to the significance level and make a decision whether to reject or fail to reject the null hypothesis. If the p-value is less than or equal to the significance level, reject the null hypothesis; otherwise, fail to reject the null hypothesis."
   ]
  },
  {
   "cell_type": "markdown",
   "id": "0a0176ea-6313-4fc3-88cf-60d7d194422e",
   "metadata": {},
   "source": [
    "Question No. 8:\n",
    "Define p-value and explain its significance in hypothesis testing.\n",
    "\n",
    "Answer:\n",
    "The p-value in hypothesis testing is the probability of observing a test statistic or a more extreme value, given that the null hypothesis is true. In other words, it is the probability of obtaining the observed data or more extreme data if the null hypothesis is true.\n",
    "The p-value provides a measure of the strength of evidence against the null hypothesis. A small p-value indicates strong evidence against the null hypothesis, while a large p-value indicates weak evidence against the null hypothesis.\n",
    "\n",
    "The p-value is a key component of hypothesis testing because it helps researchers make decisions about the null hypothesis. If the p-value is small (e.g., less than or equal to the significance level), it suggests that the observed data is unlikely to have occurred by chance under the null hypothesis, and the null hypothesis is rejected. If the p-value is large (e.g., greater than the significance level), it suggests that the observed data is consistent with the null hypothesis, and the null hypothesis is not rejected."
   ]
  },
  {
   "cell_type": "markdown",
   "id": "abc49c40-723e-478b-a078-56c05888dc0e",
   "metadata": {},
   "source": [
    "Question No. 9:\n",
    "Generate a Student's t-distribution plot using Python's matplotlib library, with the degrees of freedom parameter set to 10.\n",
    "\n",
    "Answer:\n"
   ]
  },
  {
   "cell_type": "code",
   "execution_count": 5,
   "id": "09d00d18-e1a0-4285-87bc-b70d5fb8f156",
   "metadata": {},
   "outputs": [
    {
     "data": {
      "image/png": "[encoded data removed]",
      "text/plain": [
       "<Figure size 640x480 with 1 Axes>"
      ]
     },
     "metadata": {},
     "output_type": "display_data"
    }
   ],
   "source": [
    "import matplotlib.pyplot as plt\n",
    "import numpy as np\n",
    "from scipy.stats import t\n",
    "\n",
    "df = 10 # degrees of freedom\n",
    "data = t.rvs(df, size=1000) # generate 1000 random values from the t-distribution with 10 degrees of freedom\n",
    "\n",
    "fig, ax = plt.subplots()\n",
    "ax.hist(data, bins='fd', density=True, alpha=0.5,edgecolor='black',label='histogram')\n",
    "\n",
    "kde_xs = np.linspace(data.min(), data.max(), 1000)\n",
    "kde = t.pdf(kde_xs, df)\n",
    "ax.plot(kde_xs, kde, label='KDE', linewidth=2)\n",
    "\n",
    "ax.set_xlabel('x')\n",
    "ax.set_ylabel('Probability density')\n",
    "ax.set_title('Student\\'s t-distribution with 10 degrees of freedom')\n",
    "ax.legend(loc='best')\n",
    "plt.show()"
   ]
  },
  {
   "cell_type": "markdown",
   "id": "8a6684bb-538e-4703-bf2a-c86794870e2c",
   "metadata": {},
   "source": [
    "Question No. 10:\n",
    "Write a Python program to calculate the two-sample t-test for independent samples, given two random samples of equal size and a null hypothesis that the population means are equal.\n",
    "\n",
    "Answer:"
   ]
  },
  {
   "cell_type": "code",
   "execution_count": 6,
   "id": "d1f35047-2849-4cc7-99b3-4a6004fd8c2f",
   "metadata": {},
   "outputs": [
    {
     "name": "stdout",
     "output_type": "stream",
     "text": [
      "t-statistic =  -0.6321583804807765\n",
      "p-value =  0.5287554545673616\n",
      "Confidence Interval = 0.99\n",
      "\n",
      "\n",
      "FAIL to reject the null hypothesis that the population means are equal.\n",
      "Conclusion : Population means for both samples are EQUAL\n"
     ]
    }
   ],
   "source": [
    "import numpy as np\n",
    "from scipy.stats import ttest_ind\n",
    "s1 = np.random.normal(loc=10,scale=2,size=50)\n",
    "s2=np.random.normal(loc=10,scale=2,size=50)\n",
    "t_stat,p_val =ttest_ind(s1,s2)\n",
    "# Print the results\n",
    "print(\"t-statistic = \", t_stat)\n",
    "print(\"p-value = \", p_val)\n",
    "\n",
    "alpha = 0.01\n",
    "print(\"Confidence Interval =\",1-alpha)\n",
    "print('\\n')\n",
    "\n",
    "# Test the null hypothesis\n",
    "if p_val < alpha:\n",
    "    print(\"REJECT the null hypothesis that the population means are equal.\")\n",
    "    print(\"Conclusion : Population means for both samples are DIFFERENT\")\n",
    "else:\n",
    "    print(\"FAIL to reject the null hypothesis that the population means are equal.\")\n",
    "    print(\"Conclusion : Population means for both samples are EQUAL\")"
   ]
  },
  {
   "cell_type": "markdown",
   "id": "53932fea-6127-495d-b695-e5d4af45c318",
   "metadata": {},
   "source": [
    "Question No. 11:\n",
    "What is Student’s t distribution? When to use the t-Distribution.\n",
    "\n",
    "Answer:\n",
    "Student's t distribution is a probability distribution that is used in hypothesis testing when the sample size is small and the population standard deviation is unknown.\n",
    "It is similar to the standard normal distribution (z-distribution), but has heavier tails, which means it has more probability in the tails and less in the center compared to the standard normal distribution. The shape of the t-distribution depends on the sample size, with smaller sample sizes resulting in a more spread-out distribution.\n",
    "\n",
    "3The t-distribution is used in situations where the population standard deviation is unknown and must be estimated from the sample data.\n",
    "It is also used when the sample size is small (typically less than 30) and the population is normally distributed. The t-distribution allows for greater uncertainty in the estimate of the population standard deviation due to the smaller sample size."
   ]
  },
  {
   "cell_type": "markdown",
   "id": "5d3ebac6-1b1d-435a-97dc-2b1db0b8fda8",
   "metadata": {},
   "source": [
    "Question 12 : What is t-statistic? State the formula for t-statistic.\n",
    "\n",
    "Answer :\n",
    "\n",
    "The t-statistic is a test statistic that is used in hypothesis testing and confidence interval estimation when the population standard deviation is unknown and the sample size is small. It is a standardized measure of the difference between the sample mean and the hypothesized population mean, in units of the sample standard deviation.\n",
    "\n",
    "The formula for the t-statistic is:\n",
    "t = (x̄ - μ) / (s / √n)\n",
    "\n",
    "where:\n",
    "x̄ is the sample mean\n",
    "\n",
    "μ is the hypothesized population mean\n",
    "\n",
    "s is the sample standard deviation\n",
    "\n",
    "n is the sample size\n",
    "\n",
    "√n is the square root of the sample size \n",
    "\n",
    "The formula shows that the t-statistic is the difference between the sample mean and hypothesized population mean, standardized by the standard error of the mean, which is the sample standard deviation divided by the square root of the sample size."
   ]
  },
  {
   "cell_type": "markdown",
   "id": "7db97970-ee1c-41f8-a539-be2d2b439b57",
   "metadata": {},
   "source": [
    "Question 13 : A coffee shop owner wants to estimate the average daily revenue for their shop. They take a random sample of 50 days and find the sample mean revenue to be $500 with a standard deviation of $50. Estimate the population mean revenue with a 95% confidence interval\n"
   ]
  },
  {
   "cell_type": "markdown",
   "id": "13b7f779-f251-4e72-95e8-91ec8c7340b1",
   "metadata": {},
   "source": [
    "Answer:\n",
    "To estimate the population mean revenue with a 95% confidence interval, we can use the following formula:\n",
    "\n",
    "Confidence Interval = sample mean ± margin of error\n",
    "\n",
    "where the margin of error is given by:\n",
    "\n",
    "Margin of Error = critical value * standard error\n",
    "\n",
    "The standard error is the standard deviation of the sample divided by the square root of the sample size:\n",
    "\n",
    "Standard Error = standard deviation / sqrt(sample size)\n",
    "\n",
    "Substituting the values given in the problem statement, we get:\n",
    "\n",
    "Standard Error = 50 / sqrt(50) = 7.07\n",
    "Margin of Error = 1.96 * 7.07 = 13.85\n",
    "\n",
    "Therefore, the 95% confidence interval for the population mean revenue is:\n",
    "\n",
    "500 ± 13.85, or (486.15, 513.85)\n",
    "\n",
    "We can be 95% confident that the true population mean revenue falls within this interval."
   ]
  },
  {
   "cell_type": "code",
   "execution_count": 7,
   "id": "f0b372d9-2464-4692-a9e2-ef4f5471c627",
   "metadata": {},
   "outputs": [
    {
     "name": "stdout",
     "output_type": "stream",
     "text": [
      "The 95% confidence interval for the population mean revenue is: ($485.79, $514.21)\n"
     ]
    }
   ],
   "source": [
    "#through python\n",
    "import math\n",
    "import scipy.stats as stats\n",
    "\n",
    "sample_mean = 500\n",
    "sample_std = 50\n",
    "sample_size = 50\n",
    "\n",
    "alpha = 0.05  # significance level\n",
    "dof = sample_size - 1  # degrees of freedom\n",
    "t_value = stats.t.ppf(1 - alpha/2, dof)  # two-tailed t-value\n",
    "\n",
    "std_error = sample_std / math.sqrt(sample_size)\n",
    "margin_of_error = t_value * std_error\n",
    "\n",
    "lower_bound = sample_mean - margin_of_error\n",
    "upper_bound = sample_mean + margin_of_error\n",
    "\n",
    "print(f\"The 95% confidence interval for the population mean revenue is: (${lower_bound:.2f}, ${upper_bound:.2f})\")"
   ]
  },
  {
   "cell_type": "markdown",
   "id": "fccca1a7-e35a-45c1-b2cd-cbda1d293b0e",
   "metadata": {},
   "source": [
    "Question No. 14:\n",
    "A researcher hypothesizes that a new drug will decrease blood pressure by 10 mmHg. They conduct a clinical trial with 100 patients and find that the sample mean decrease in blood pressure is 8 mmHg with a standard deviation of 3 mmHg. Test the hypothesis with a significance level of 0.05.\n",
    "\n",
    "Answer:"
   ]
  },
  {
   "cell_type": "code",
   "execution_count": 9,
   "id": "44e2d3d2-54c4-45cd-a17d-0d781fc0c7cc",
   "metadata": {},
   "outputs": [
    {
     "name": "stdout",
     "output_type": "stream",
     "text": [
      "The p-value is 7.506144504985108e-10, which is less than the significance level of 0.05.\n",
      "Reject the null hypothesis: The true mean decrease in blood pressure is equal to 10 mmHg.\n",
      "Conclusion: The true mean decrease in blood pressure is less than 10 mmHg.\n"
     ]
    }
   ],
   "source": [
    "import math\n",
    "import scipy.stats as stats\n",
    "\n",
    "# sample size\n",
    "n = 100\n",
    "\n",
    "# sample mean and standard deviation\n",
    "sample_mean = 8\n",
    "sample_std = 3\n",
    "\n",
    "# hypothesized population mean\n",
    "pop_mean = 10\n",
    "\n",
    "# null hypothesis: the true mean decrease in blood pressure is equal to 10 mmHg\n",
    "# alternative hypothesis: the true mean decrease in blood pressure is less than 10 mmHg\n",
    "null_hypothesis = \"The true mean decrease in blood pressure is equal to 10 mmHg\"\n",
    "alternative_hypothesis = \"The true mean decrease in blood pressure is less than 10 mmHg\"\n",
    "\n",
    "# calculate the t-value and p-value\n",
    "t_value = (sample_mean - pop_mean) / (sample_std / math.sqrt(n))\n",
    "p_value = stats.t.cdf(t_value, df=n-1)\n",
    "\n",
    "# compare the p-value with the significance level\n",
    "significance_level = 0.05\n",
    "\n",
    "if p_value < significance_level:\n",
    "    print(f\"The p-value is {p_value}, which is less than the significance level of {significance_level}.\")\n",
    "    print(f\"Reject the null hypothesis: {null_hypothesis}.\")\n",
    "    print(f\"Conclusion: {alternative_hypothesis}.\")\n",
    "else:\n",
    "    print(f\"The p-value is {p_value}, which is greater than the significance level of {significance_level}.\")\n",
    "    print(f\"Fail to reject the null hypothesis: {null_hypothesis}.\")\n",
    "    print(\"Conclusion: There is not enough evidence to conclude that the new drug decreases blood pressure by a statistically \")"
   ]
  },
  {
   "cell_type": "markdown",
   "id": "6e435fbd-01db-4e14-a8ec-203a0f2c3c25",
   "metadata": {},
   "source": [
    "Question No. 15:\n",
    "An electronics company produces a certain type of product with a mean weight of 5 pounds and a standard deviation of 0.5 pounds. A random sample of 25 products is taken, and the sample mean weight is found to be 4.8 pounds. Test the hypothesis that the true mean weight of the products is less than 5 pounds with a significance level of 0.01.\n",
    "\n",
    "Answer:\n",
    "The following values are given in the question:\n",
    "\n",
    "Population Mean = 5\n",
    "Sample Size = n = 25\n",
    "Sample Mean = 4.8\n",
    "Standard Deviation = 0.5\n",
    "Significance Level = 0.01\n",
    "Confidence Interval = 0.99\n",
    "\n",
    "My null and alternate hypothesis are as follows:\n",
    "\n",
    "Null Hypothesis = H0 => Population Mean = 5\n",
    "Alternate Hypothesis = H1 => Population Mean < 5\n",
    "\n",
    "Then I utilized the follwing z-test formula:\n",
    "image.png\n",
    "\n",
    "I got the following value:\n",
    "\n",
    "-2\n",
    "\n",
    "From utilizing z-table i obgtained values for z-score of -2:\n",
    "\n",
    "z-score = 0.02275\n",
    "\n",
    "Which also becomes my p-value:\n",
    "\n",
    "p-value = 0.02275\n",
    "\n",
    "Then i checked whether p-value < significance value\n",
    "\n",
    "0.02775 < 0.01\n",
    "False\n",
    "\n",
    "So my final conclusion was:\n",
    "\n",
    "Failed to reject null hypothesis"
   ]
  },
  {
   "cell_type": "code",
   "execution_count": 10,
   "id": "7af3171f-1e6a-48a6-bae9-4c1c9f611e15",
   "metadata": {},
   "outputs": [
    {
     "name": "stdout",
     "output_type": "stream",
     "text": [
      "The p-value is 0.0285, which is greater than the significance level of 0.01.\n",
      "Fail to reject the null hypothesis: The true mean weight of the products is equal to 5 pounds.\n",
      "Conclusion: There is not enough evidence to conclude that the true mean weight of the products is less than 5 pounds\n"
     ]
    }
   ],
   "source": [
    "#though python\n",
    "import math\n",
    "import scipy.stats as stats\n",
    "\n",
    "# population mean and standard deviation\n",
    "pop_mean = 5\n",
    "pop_std = 0.5\n",
    "\n",
    "# sample size and sample mean\n",
    "n = 25\n",
    "sample_mean = 4.8\n",
    "\n",
    "# null hypothesis: the true mean weight of the products is equal to 5 pounds\n",
    "# alternative hypothesis: the true mean weight of the products is less than 5 pounds\n",
    "null_hypothesis = \"The true mean weight of the products is equal to 5 pounds\"\n",
    "alternative_hypothesis = \"The true mean weight of the products is less than 5 pounds\"\n",
    "\n",
    "# calculate the t-value and p-value\n",
    "t_value = (sample_mean - pop_mean) / (pop_std / math.sqrt(n))\n",
    "p_value = stats.t.cdf(t_value, df=n-1)\n",
    "\n",
    "# compare the p-value with the significance level\n",
    "significance_level = 0.01\n",
    "\n",
    "if p_value < significance_level:\n",
    "    print(f\"The p-value is {p_value:.4f}, which is less than the significance level of {significance_level}.\")\n",
    "    print(f\"Reject the null hypothesis: {null_hypothesis}.\")\n",
    "    print(f\"Conclusion: {alternative_hypothesis}.\")\n",
    "else:\n",
    "    print(f\"The p-value is {p_value:.4f}, which is greater than the significance level of {significance_level}.\")\n",
    "    print(f\"Fail to reject the null hypothesis: {null_hypothesis}.\")\n",
    "    print(\"Conclusion: There is not enough evidence to conclude that the true mean weight of the products is less than 5 pounds\")"
   ]
  },
  {
   "cell_type": "markdown",
   "id": "0ca74c5c-e5d2-4b45-aad2-30b6ffe48947",
   "metadata": {},
   "source": [
    "Question No. 16:\n",
    "Two groups of students are given different study materials to prepare for a test. The first group (n1 = 30) has a mean score of 80 with a standard deviation of 10, and the second group (n2 = 40) has a mean score of 75 with a standard deviation of 8. Test the hypothesis that the population means for the two groups are equal with a significance level of 0.01.\n",
    "\n",
    "Answer:\n",
    "My null and alternate hypothesis are as follows:\n",
    "\n",
    "Null Hypothesis = H0 => Population Mean of Group 1 = Population Mean of Group 2\n",
    "Alternate Hypothesis = H1 => Population Mean of Group 1 != Population Mean of Group 2\n",
    "\n",
    "Then I utilized the follwing two sample T-test formula:\n",
    "image.png\n",
    "\n",
    "I got the value of t as:\n",
    "\n",
    "t = 2.37\n",
    "\n",
    "Then I utilized t-table to look for the value of t for the following parameters:\n",
    "\n",
    "Degrees of Freedom = 68\n",
    "Significance Value = 0.01\n",
    "\n",
    "I got the following value of t fromt the table:\n",
    "\n",
    "t = ± 2.638\n",
    "\n",
    "Since 2.37 lies in the region ±2.638 so, the final conclusion was:\n",
    "\n",
    "Failed to reject null hypothesis\n",
    "Population mean for two groups are equal"
   ]
  },
  {
   "cell_type": "code",
   "execution_count": 11,
   "id": "46408680-1882-4140-ae90-6dc32cad8c93",
   "metadata": {},
   "outputs": [
    {
     "name": "stdout",
     "output_type": "stream",
     "text": [
      "Fail to reject the null hypothesis.\n",
      "Conclusion : The population means for the two groups are EQUAL\n",
      "p-value:  0.02761348036769749\n"
     ]
    }
   ],
   "source": [
    "#through python\n",
    "import scipy.stats as stats\n",
    "\n",
    "# Sample 1 statistics\n",
    "n1 = 30\n",
    "x1 = 80\n",
    "s1 = 10\n",
    "\n",
    "# Sample 2 statistics\n",
    "n2 = 40\n",
    "x2 = 75\n",
    "s2 = 8\n",
    "\n",
    "# null hypothesis: The population means for the two groups are EQUAL\n",
    "# alternative hypothesis: The population means for the two groups are NOT equal.\n",
    "null_hypothesis = \"The population means for the two groups are EQUAL\"\n",
    "alternative_hypothesis = \"The population means for the two groups are not equal.\"\n",
    "\n",
    "# Calculate the t-statistic\n",
    "t = (x1 - x2) / ((s1**2 / n1) + (s2**2 / n2))**0.5\n",
    "\n",
    "# Degrees of freedom\n",
    "df = n1 + n2 - 2\n",
    "\n",
    "# Calculate the p-value for the two-tailed test\n",
    "p_value = stats.t.sf(abs(t), df) * 2\n",
    "\n",
    "# Significance level\n",
    "alpha = 0.01\n",
    "\n",
    "# Test the hypothesis\n",
    "if p_value < alpha:\n",
    "    print(f\"Reject the null hypothesis : {null_hypothesis}\")\n",
    "    print(f\"Conclusion : {alternative_hypothesis}\")\n",
    "else:\n",
    "    print(\"Fail to reject the null hypothesis.\")\n",
    "    print(f\"Conclusion : {null_hypothesis}\")\n",
    "\n",
    "print(\"p-value: \", p_value)"
   ]
  },
  {
   "cell_type": "markdown",
   "id": "440f8f68-c5e3-476f-ad04-257de681722a",
   "metadata": {},
   "source": [
    "Question No. 17:\n",
    "A marketing company wants to estimate the average number of ads watched by viewers during a TV program. They take a random sample of 50 viewers and find that the sample mean is 4 with a standard deviation of 1.5. Estimate the population mean with a 99% confidence interval.\n",
    "\n",
    "Answer:\n",
    "To estimate the population mean with a 99% confidence interval, we can use the following formula:\n",
    "\n",
    "CI = X̄ ± z*(σ/√n)\n",
    "\n",
    "Where:\n",
    "\n",
    "X̄ = sample mean (4)\n",
    "z = z-score corresponding to the confidence level (99%)\n",
    "σ = population standard deviation (1.5)\n",
    "n = sample size (50)\n",
    "\n",
    "To find the z-score, we can use a standard normal distribution table. For a 99% confidence level, the z-score is\n",
    "\n",
    "z-score = 2.576.\n",
    "\n",
    "Plugging in the values, we get:\n",
    "\n",
    "CI = 4 ± 2.576*(1.5/√50)\n",
    "CI = 4 ± 0.665\n",
    "\n",
    "Therefore, the 99% confidence interval for the population mean of the number of ads watched by viewers during a TV program is (3.335, 4.665). We are 99% confident that the true population mean falls within this interval."
   ]
  },
  {
   "cell_type": "code",
   "execution_count": 12,
   "id": "99c29adf-fe7a-4f58-b63f-d0eeebba098d",
   "metadata": {},
   "outputs": [
    {
     "name": "stdout",
     "output_type": "stream",
     "text": [
      "The population mean is between 3.43 and 4.57 with 99.0 % confidence\n"
     ]
    }
   ],
   "source": [
    "#though python\n",
    "import scipy.stats as stats\n",
    "import math\n",
    "\n",
    "sample_mean = 4\n",
    "sample_size = 50\n",
    "sample_std_dev = 1.5\n",
    "conf_level = 0.99\n",
    "\n",
    "# calculate the t-value for the desired level of confidence and degrees of freedom\n",
    "t_value = stats.t.ppf((1+conf_level)/2,sample_size-1)\n",
    "\n",
    "# Calculate margin of error\n",
    "margin_error = t_value * (sample_std_dev / math.sqrt(sample_size))\n",
    "\n",
    "# Calculate confidence interval\n",
    "lower_interval = sample_mean - margin_error\n",
    "upper_interval = sample_mean + margin_error\n",
    "\n",
    "# Print results\n",
    "print(\"The population mean is between\", round(lower_interval, 2), \"and\", round(upper_interval, 2), \"with\", conf_level * 100, \"% confidence\")"
   ]
  },
  {
   "cell_type": "code",
   "execution_count": null,
   "id": "d311389f-5c7e-4569-b15e-f53afa4e757a",
   "metadata": {},
   "outputs": [],
   "source": []
  }
 ],
 "metadata": {
  "kernelspec": {
   "display_name": "Python 3 (ipykernel)",
   "language": "python",
   "name": "python3"
  },
  "language_info": {
   "codemirror_mode": {
    "name": "ipython",
    "version": 3
   },
   "file_extension": ".py",
   "mimetype": "text/x-python",
   "name": "python",
   "nbconvert_exporter": "python",
   "pygments_lexer": "ipython3",
   "version": "3.10.8"
  }
 },
 "nbformat": 4,
 "nbformat_minor": 5
}
